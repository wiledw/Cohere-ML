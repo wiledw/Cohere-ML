{
  "nbformat": 4,
  "nbformat_minor": 0,
  "metadata": {
    "colab": {
      "provenance": []
    },
    "kernelspec": {
      "name": "python3",
      "display_name": "Python 3"
    },
    "language_info": {
      "name": "python"
    }
  },
  "cells": [
    {
      "cell_type": "code",
      "execution_count": null,
      "metadata": {
        "colab": {
          "base_uri": "https://localhost:8080/"
        },
        "id": "5mThAaGbQTuD",
        "outputId": "b63f8ac9-dc0a-4531-b4a5-6265e4f2e28e"
      },
      "outputs": [
        {
          "output_type": "stream",
          "name": "stdout",
          "text": [
            "Looking in indexes: https://pypi.org/simple, https://us-python.pkg.dev/colab-wheels/public/simple/\n",
            "Collecting cohere\n",
            "  Downloading cohere-2.9.1.tar.gz (8.8 kB)\n",
            "Requirement already satisfied: requests in /usr/local/lib/python3.8/dist-packages (from cohere) (2.23.0)\n",
            "Requirement already satisfied: urllib3!=1.25.0,!=1.25.1,<1.26,>=1.21.1 in /usr/local/lib/python3.8/dist-packages (from requests->cohere) (1.24.3)\n",
            "Requirement already satisfied: certifi>=2017.4.17 in /usr/local/lib/python3.8/dist-packages (from requests->cohere) (2022.9.24)\n",
            "Requirement already satisfied: idna<3,>=2.5 in /usr/local/lib/python3.8/dist-packages (from requests->cohere) (2.10)\n",
            "Requirement already satisfied: chardet<4,>=3.0.2 in /usr/local/lib/python3.8/dist-packages (from requests->cohere) (3.0.4)\n",
            "Building wheels for collected packages: cohere\n",
            "  Building wheel for cohere (setup.py) ... \u001b[?25l\u001b[?25hdone\n",
            "  Created wheel for cohere: filename=cohere-2.9.1-cp38-cp38-linux_x86_64.whl size=9627 sha256=260e4a10638decfd99d9e810964dd17ad17dc1d7fffed40b3d1e617525bedaf0\n",
            "  Stored in directory: /root/.cache/pip/wheels/c8/79/5b/36adcce533f4b0ed540beef7e6ea61d637a10cb2c8d4670153\n",
            "Successfully built cohere\n",
            "Installing collected packages: cohere\n",
            "Successfully installed cohere-2.9.1\n"
          ]
        }
      ],
      "source": [
        "!pip install cohere"
      ]
    },
    {
      "cell_type": "code",
      "source": [
        "import cohere\n",
        "\n",
        "API_KEY = 'put-your-api-key-here'\n",
        "co = cohere.Client(API_KEY)"
      ],
      "metadata": {
        "id": "wBZ-kWj4QYOI"
      },
      "execution_count": null,
      "outputs": []
    },
    {
      "cell_type": "code",
      "source": [
        "# Generation Playground\n",
        "\n",
        "response = co.generate(\n",
        "  model='xlarge',\n",
        "  prompt='AI is ',\n",
        "  max_tokens=100,\n",
        "  temperature=0.9,\n",
        ")\n",
        "\n",
        "print(response.generations[0].text)"
      ],
      "metadata": {
        "colab": {
          "base_uri": "https://localhost:8080/"
        },
        "id": "qBE4uIpqXBf1",
        "outputId": "42e4c6c1-4a9a-4789-9e5b-f2468cd436b2"
      },
      "execution_count": null,
      "outputs": [
        {
          "output_type": "stream",
          "name": "stdout",
          "text": [
            " going to change a lot of the ways we live, work, and play. The way we experience the world will be transformed. And you can be part of it. It's the beginning of a new era, and there are millions of ways for you to contribute to AI's future. You can learn about AI, use AI to build something, or become an AI developer.\n",
            "\n",
            "You can join a team of scientists and engineers to develop AI applications and algorithms. You can also join a company\n"
          ]
        },
        {
          "output_type": "stream",
          "name": "stderr",
          "text": [
            "\u001b[93mWarning: Your text contains a trailing whitespace, which has been trimmed to ensure high quality generations.\n",
            "\u001b[0m\n"
          ]
        }
      ]
    },
    {
      "cell_type": "code",
      "source": [
        "# Summarizing\n",
        "\n",
        "prompt = '''\n",
        "The DJI has over 130,000 indexes, although many are used by only relatively few people. Most are principally equity (stock) indexes but also contain fixed-income, futures, options, private equity, commodity, currency, bond, and other alternative asset class metrics. Dow Jones Indexes says that all its products are maintained according to clear, unbiased, and systematic methodologies that are fully integrated within index families.\n",
        "\n",
        "DJI and Sustainable Asset Management (SAM), launched the Dow Jones Sustainability Indices in 1999. These indexes track performance of sustainability-driven companies around the world. There are currently 70 DJSI licenses held by asset managers in 16 countries to manage a variety of financial products, including active and passive funds, certificates and segregated accounts.\n",
        "\n",
        "DJI partnered with AIG to create the Dow Jones-AIG Commodity Index. It tracks trades on futures contracts for physical commodities, like energy (petroleum, gas), precious metals (gold, silver), industrial metals (zinc, copper), grains (corn, wheat), livestock (lean hogs, live cattle), among others.\n",
        "\n",
        "UBS Securities LLC has acquired AIG Financial Product Corp.'s commodity business as of May 6, 2009. As such, the Dow Jones-AIG Commodity Indexes have been re-branded as the Dow Jones-UBS Commodity Indexes effective May 7, 2009.\n",
        "\n",
        "The Dow Jones Select Dividend Indexes reflects the performance of leading dividend-yielding stocks. It includes global and regional indexes. It was DJI's first fundamentals-driven index.\n",
        "\n",
        "Dow Jones Indexes also does \"specialty\" indexes for specific markets or interests. It has the Dow Jones U.S. Economic Stimulus Index, the Olympic-inspired Dow Jones Summer/Winter Games, the race-car centric Dow Jones Formula 1 Index and the Dow Jones Luxury Index, among others.\n",
        "\n",
        "Companies can also request that specific indexes be created to suit their clients' interest or for publicity purposes. This is popular with smaller asset management and public relations firms.\n",
        "'''\n",
        "\n",
        "response = co.generate(\n",
        "  model='xlarge',\n",
        "  prompt=f'{prompt}\\n Summary:',\n",
        "  max_tokens=100,\n",
        "  temperature=0.9,\n",
        ")\n",
        "\n",
        "print(response.generations[0].text)"
      ],
      "metadata": {
        "colab": {
          "base_uri": "https://localhost:8080/"
        },
        "id": "iTCRvKVtXE1v",
        "outputId": "0a740f31-d637-4508-fdc0-db27ceb6b09e"
      },
      "execution_count": null,
      "outputs": [
        {
          "output_type": "stream",
          "name": "stdout",
          "text": [
            " DJI has an index to suit almost every investor's needs. \n",
            "\n",
            "===Licensing and sublicensing===\n",
            "\n",
            "Dow Jones Indexes licenses its index brands for the production of exchange-traded funds (ETFs), mutual funds, structured products, separate accounts, unit trusts, hedge funds, and private equity. \n",
            "\n",
            "The firm also licenses its indexes to companies that create exchange-traded products. ETFs based on Dow Jones Indexes are available in the United States, Europe\n"
          ]
        }
      ]
    },
    {
      "cell_type": "code",
      "source": [
        "# Spam Detection with Kaggle Dataset"
      ],
      "metadata": {
        "id": "L6DOuUU8XfMo"
      },
      "execution_count": null,
      "outputs": []
    },
    {
      "cell_type": "code",
      "source": [
        "from cohere.classify import Example\n",
        "\n",
        "examples = [Example('hey this is good!', 'positive'),\n",
        "            Example('nah this is bad', 'negative'),\n",
        "            Example('hey this is very good!', 'positive'),\n",
        "            Example('nah this is very bad', 'negative')]"
      ],
      "metadata": {
        "id": "DKLfoOQ6PaPF"
      },
      "execution_count": null,
      "outputs": []
    },
    {
      "cell_type": "code",
      "source": [
        "inputs = ['uh oh', 'not good', 'this is great']"
      ],
      "metadata": {
        "id": "EVRfyxK3Qh_k"
      },
      "execution_count": null,
      "outputs": []
    },
    {
      "cell_type": "code",
      "source": [
        "response = co.classify(\n",
        "  model='small',\n",
        "  inputs=inputs,\n",
        "  examples=examples\n",
        ")\n",
        "\n",
        "print(response.classifications)"
      ],
      "metadata": {
        "colab": {
          "base_uri": "https://localhost:8080/"
        },
        "id": "oRRcNwt1bkgX",
        "outputId": "f7e2b48d-7790-4f01-dfeb-1566c956e0f8"
      },
      "execution_count": null,
      "outputs": [
        {
          "output_type": "stream",
          "name": "stdout",
          "text": [
            "[Classification<prediction: \"negative\", confidence: 0.7720491>, Classification<prediction: \"negative\", confidence: 0.86255544>, Classification<prediction: \"positive\", confidence: 0.8496986>]\n"
          ]
        }
      ]
    },
    {
      "cell_type": "code",
      "source": [
        "# Upload your kaggle.json API key!"
      ],
      "metadata": {
        "id": "etSzicpJoVJt"
      },
      "execution_count": null,
      "outputs": []
    },
    {
      "cell_type": "code",
      "source": [
        "!mkdir ~/.kaggle\n",
        "!cp kaggle.json ~/.kaggle/\n",
        "!chmod 600 ~/.kaggle/kaggle.json\n",
        "!kaggle datasets download -d chandramoulinaidu/spam-classification-for-basic-nlp"
      ],
      "metadata": {
        "colab": {
          "base_uri": "https://localhost:8080/"
        },
        "id": "7m7Z5_zjQlyg",
        "outputId": "1b2aa3d7-29ba-414b-b0ad-4fc6d56a5839"
      },
      "execution_count": null,
      "outputs": [
        {
          "output_type": "stream",
          "name": "stdout",
          "text": [
            "Downloading spam-classification-for-basic-nlp.zip to /content\n",
            " 70% 4.00M/5.69M [00:00<00:00, 5.91MB/s]\n",
            "100% 5.69M/5.69M [00:01<00:00, 5.76MB/s]\n"
          ]
        }
      ]
    },
    {
      "cell_type": "code",
      "source": [
        "!unzip spam-classification-for-basic-nlp.zip"
      ],
      "metadata": {
        "colab": {
          "base_uri": "https://localhost:8080/"
        },
        "id": "6LypfgHxU-ht",
        "outputId": "e7ddd6ce-7312-4499-d685-80e57e595aa8"
      },
      "execution_count": null,
      "outputs": [
        {
          "output_type": "stream",
          "name": "stdout",
          "text": [
            "Archive:  spam-classification-for-basic-nlp.zip\n",
            "  inflating: Spam Email raw text for NLP.csv  \n"
          ]
        }
      ]
    },
    {
      "cell_type": "code",
      "source": [
        "import pandas as pd\n",
        "\n",
        "df = pd.read_csv('Spam Email raw text for NLP.csv')\n",
        "\n",
        "df.head(3)"
      ],
      "metadata": {
        "colab": {
          "base_uri": "https://localhost:8080/",
          "height": 143
        },
        "id": "iPUcmScTTrcu",
        "outputId": "4a34f4a4-a173-48d0-922b-a94d02890919"
      },
      "execution_count": null,
      "outputs": [
        {
          "output_type": "execute_result",
          "data": {
            "text/plain": [
              "   CATEGORY                                            MESSAGE  \\\n",
              "0         1  Dear Homeowner,\\n\\n \\n\\nInterest Rates are at ...   \n",
              "1         1  ATTENTION: This is a MUST for ALL Computer Use...   \n",
              "2         1  This is a multi-part message in MIME format.\\n...   \n",
              "\n",
              "                                FILE_NAME  \n",
              "0  00249.5f45607c1bffe89f60ba1ec9f878039a  \n",
              "1  00373.ebe8670ac56b04125c25100a36ab0510  \n",
              "2  00214.1367039e50dc6b7adb0f2aa8aba83216  "
            ],
            "text/html": [
              "\n",
              "  <div id=\"df-3977f87a-8d1a-4b18-afa3-ce03aa356d31\">\n",
              "    <div class=\"colab-df-container\">\n",
              "      <div>\n",
              "<style scoped>\n",
              "    .dataframe tbody tr th:only-of-type {\n",
              "        vertical-align: middle;\n",
              "    }\n",
              "\n",
              "    .dataframe tbody tr th {\n",
              "        vertical-align: top;\n",
              "    }\n",
              "\n",
              "    .dataframe thead th {\n",
              "        text-align: right;\n",
              "    }\n",
              "</style>\n",
              "<table border=\"1\" class=\"dataframe\">\n",
              "  <thead>\n",
              "    <tr style=\"text-align: right;\">\n",
              "      <th></th>\n",
              "      <th>CATEGORY</th>\n",
              "      <th>MESSAGE</th>\n",
              "      <th>FILE_NAME</th>\n",
              "    </tr>\n",
              "  </thead>\n",
              "  <tbody>\n",
              "    <tr>\n",
              "      <th>0</th>\n",
              "      <td>1</td>\n",
              "      <td>Dear Homeowner,\\n\\n \\n\\nInterest Rates are at ...</td>\n",
              "      <td>00249.5f45607c1bffe89f60ba1ec9f878039a</td>\n",
              "    </tr>\n",
              "    <tr>\n",
              "      <th>1</th>\n",
              "      <td>1</td>\n",
              "      <td>ATTENTION: This is a MUST for ALL Computer Use...</td>\n",
              "      <td>00373.ebe8670ac56b04125c25100a36ab0510</td>\n",
              "    </tr>\n",
              "    <tr>\n",
              "      <th>2</th>\n",
              "      <td>1</td>\n",
              "      <td>This is a multi-part message in MIME format.\\n...</td>\n",
              "      <td>00214.1367039e50dc6b7adb0f2aa8aba83216</td>\n",
              "    </tr>\n",
              "  </tbody>\n",
              "</table>\n",
              "</div>\n",
              "      <button class=\"colab-df-convert\" onclick=\"convertToInteractive('df-3977f87a-8d1a-4b18-afa3-ce03aa356d31')\"\n",
              "              title=\"Convert this dataframe to an interactive table.\"\n",
              "              style=\"display:none;\">\n",
              "        \n",
              "  <svg xmlns=\"http://www.w3.org/2000/svg\" height=\"24px\"viewBox=\"0 0 24 24\"\n",
              "       width=\"24px\">\n",
              "    <path d=\"M0 0h24v24H0V0z\" fill=\"none\"/>\n",
              "    <path d=\"M18.56 5.44l.94 2.06.94-2.06 2.06-.94-2.06-.94-.94-2.06-.94 2.06-2.06.94zm-11 1L8.5 8.5l.94-2.06 2.06-.94-2.06-.94L8.5 2.5l-.94 2.06-2.06.94zm10 10l.94 2.06.94-2.06 2.06-.94-2.06-.94-.94-2.06-.94 2.06-2.06.94z\"/><path d=\"M17.41 7.96l-1.37-1.37c-.4-.4-.92-.59-1.43-.59-.52 0-1.04.2-1.43.59L10.3 9.45l-7.72 7.72c-.78.78-.78 2.05 0 2.83L4 21.41c.39.39.9.59 1.41.59.51 0 1.02-.2 1.41-.59l7.78-7.78 2.81-2.81c.8-.78.8-2.07 0-2.86zM5.41 20L4 18.59l7.72-7.72 1.47 1.35L5.41 20z\"/>\n",
              "  </svg>\n",
              "      </button>\n",
              "      \n",
              "  <style>\n",
              "    .colab-df-container {\n",
              "      display:flex;\n",
              "      flex-wrap:wrap;\n",
              "      gap: 12px;\n",
              "    }\n",
              "\n",
              "    .colab-df-convert {\n",
              "      background-color: #E8F0FE;\n",
              "      border: none;\n",
              "      border-radius: 50%;\n",
              "      cursor: pointer;\n",
              "      display: none;\n",
              "      fill: #1967D2;\n",
              "      height: 32px;\n",
              "      padding: 0 0 0 0;\n",
              "      width: 32px;\n",
              "    }\n",
              "\n",
              "    .colab-df-convert:hover {\n",
              "      background-color: #E2EBFA;\n",
              "      box-shadow: 0px 1px 2px rgba(60, 64, 67, 0.3), 0px 1px 3px 1px rgba(60, 64, 67, 0.15);\n",
              "      fill: #174EA6;\n",
              "    }\n",
              "\n",
              "    [theme=dark] .colab-df-convert {\n",
              "      background-color: #3B4455;\n",
              "      fill: #D2E3FC;\n",
              "    }\n",
              "\n",
              "    [theme=dark] .colab-df-convert:hover {\n",
              "      background-color: #434B5C;\n",
              "      box-shadow: 0px 1px 3px 1px rgba(0, 0, 0, 0.15);\n",
              "      filter: drop-shadow(0px 1px 2px rgba(0, 0, 0, 0.3));\n",
              "      fill: #FFFFFF;\n",
              "    }\n",
              "  </style>\n",
              "\n",
              "      <script>\n",
              "        const buttonEl =\n",
              "          document.querySelector('#df-3977f87a-8d1a-4b18-afa3-ce03aa356d31 button.colab-df-convert');\n",
              "        buttonEl.style.display =\n",
              "          google.colab.kernel.accessAllowed ? 'block' : 'none';\n",
              "\n",
              "        async function convertToInteractive(key) {\n",
              "          const element = document.querySelector('#df-3977f87a-8d1a-4b18-afa3-ce03aa356d31');\n",
              "          const dataTable =\n",
              "            await google.colab.kernel.invokeFunction('convertToInteractive',\n",
              "                                                     [key], {});\n",
              "          if (!dataTable) return;\n",
              "\n",
              "          const docLinkHtml = 'Like what you see? Visit the ' +\n",
              "            '<a target=\"_blank\" href=https://colab.research.google.com/notebooks/data_table.ipynb>data table notebook</a>'\n",
              "            + ' to learn more about interactive tables.';\n",
              "          element.innerHTML = '';\n",
              "          dataTable['output_type'] = 'display_data';\n",
              "          await google.colab.output.renderOutput(dataTable, element);\n",
              "          const docLink = document.createElement('div');\n",
              "          docLink.innerHTML = docLinkHtml;\n",
              "          element.appendChild(docLink);\n",
              "        }\n",
              "      </script>\n",
              "    </div>\n",
              "  </div>\n",
              "  "
            ]
          },
          "metadata": {},
          "execution_count": 12
        }
      ]
    },
    {
      "cell_type": "code",
      "source": [
        "df = df.drop('FILE_NAME', axis=1)\n",
        "df.head(3)"
      ],
      "metadata": {
        "colab": {
          "base_uri": "https://localhost:8080/",
          "height": 143
        },
        "id": "lcsQDTDRXzWB",
        "outputId": "829f40bf-76f1-4f0c-9ef9-394dddbeacc8"
      },
      "execution_count": null,
      "outputs": [
        {
          "output_type": "execute_result",
          "data": {
            "text/plain": [
              "   CATEGORY                                            MESSAGE\n",
              "0         1  Dear Homeowner,\\n\\n \\n\\nInterest Rates are at ...\n",
              "1         1  ATTENTION: This is a MUST for ALL Computer Use...\n",
              "2         1  This is a multi-part message in MIME format.\\n..."
            ],
            "text/html": [
              "\n",
              "  <div id=\"df-ccbb1de8-9f00-4d4c-9c43-9f13552b3c73\">\n",
              "    <div class=\"colab-df-container\">\n",
              "      <div>\n",
              "<style scoped>\n",
              "    .dataframe tbody tr th:only-of-type {\n",
              "        vertical-align: middle;\n",
              "    }\n",
              "\n",
              "    .dataframe tbody tr th {\n",
              "        vertical-align: top;\n",
              "    }\n",
              "\n",
              "    .dataframe thead th {\n",
              "        text-align: right;\n",
              "    }\n",
              "</style>\n",
              "<table border=\"1\" class=\"dataframe\">\n",
              "  <thead>\n",
              "    <tr style=\"text-align: right;\">\n",
              "      <th></th>\n",
              "      <th>CATEGORY</th>\n",
              "      <th>MESSAGE</th>\n",
              "    </tr>\n",
              "  </thead>\n",
              "  <tbody>\n",
              "    <tr>\n",
              "      <th>0</th>\n",
              "      <td>1</td>\n",
              "      <td>Dear Homeowner,\\n\\n \\n\\nInterest Rates are at ...</td>\n",
              "    </tr>\n",
              "    <tr>\n",
              "      <th>1</th>\n",
              "      <td>1</td>\n",
              "      <td>ATTENTION: This is a MUST for ALL Computer Use...</td>\n",
              "    </tr>\n",
              "    <tr>\n",
              "      <th>2</th>\n",
              "      <td>1</td>\n",
              "      <td>This is a multi-part message in MIME format.\\n...</td>\n",
              "    </tr>\n",
              "  </tbody>\n",
              "</table>\n",
              "</div>\n",
              "      <button class=\"colab-df-convert\" onclick=\"convertToInteractive('df-ccbb1de8-9f00-4d4c-9c43-9f13552b3c73')\"\n",
              "              title=\"Convert this dataframe to an interactive table.\"\n",
              "              style=\"display:none;\">\n",
              "        \n",
              "  <svg xmlns=\"http://www.w3.org/2000/svg\" height=\"24px\"viewBox=\"0 0 24 24\"\n",
              "       width=\"24px\">\n",
              "    <path d=\"M0 0h24v24H0V0z\" fill=\"none\"/>\n",
              "    <path d=\"M18.56 5.44l.94 2.06.94-2.06 2.06-.94-2.06-.94-.94-2.06-.94 2.06-2.06.94zm-11 1L8.5 8.5l.94-2.06 2.06-.94-2.06-.94L8.5 2.5l-.94 2.06-2.06.94zm10 10l.94 2.06.94-2.06 2.06-.94-2.06-.94-.94-2.06-.94 2.06-2.06.94z\"/><path d=\"M17.41 7.96l-1.37-1.37c-.4-.4-.92-.59-1.43-.59-.52 0-1.04.2-1.43.59L10.3 9.45l-7.72 7.72c-.78.78-.78 2.05 0 2.83L4 21.41c.39.39.9.59 1.41.59.51 0 1.02-.2 1.41-.59l7.78-7.78 2.81-2.81c.8-.78.8-2.07 0-2.86zM5.41 20L4 18.59l7.72-7.72 1.47 1.35L5.41 20z\"/>\n",
              "  </svg>\n",
              "      </button>\n",
              "      \n",
              "  <style>\n",
              "    .colab-df-container {\n",
              "      display:flex;\n",
              "      flex-wrap:wrap;\n",
              "      gap: 12px;\n",
              "    }\n",
              "\n",
              "    .colab-df-convert {\n",
              "      background-color: #E8F0FE;\n",
              "      border: none;\n",
              "      border-radius: 50%;\n",
              "      cursor: pointer;\n",
              "      display: none;\n",
              "      fill: #1967D2;\n",
              "      height: 32px;\n",
              "      padding: 0 0 0 0;\n",
              "      width: 32px;\n",
              "    }\n",
              "\n",
              "    .colab-df-convert:hover {\n",
              "      background-color: #E2EBFA;\n",
              "      box-shadow: 0px 1px 2px rgba(60, 64, 67, 0.3), 0px 1px 3px 1px rgba(60, 64, 67, 0.15);\n",
              "      fill: #174EA6;\n",
              "    }\n",
              "\n",
              "    [theme=dark] .colab-df-convert {\n",
              "      background-color: #3B4455;\n",
              "      fill: #D2E3FC;\n",
              "    }\n",
              "\n",
              "    [theme=dark] .colab-df-convert:hover {\n",
              "      background-color: #434B5C;\n",
              "      box-shadow: 0px 1px 3px 1px rgba(0, 0, 0, 0.15);\n",
              "      filter: drop-shadow(0px 1px 2px rgba(0, 0, 0, 0.3));\n",
              "      fill: #FFFFFF;\n",
              "    }\n",
              "  </style>\n",
              "\n",
              "      <script>\n",
              "        const buttonEl =\n",
              "          document.querySelector('#df-ccbb1de8-9f00-4d4c-9c43-9f13552b3c73 button.colab-df-convert');\n",
              "        buttonEl.style.display =\n",
              "          google.colab.kernel.accessAllowed ? 'block' : 'none';\n",
              "\n",
              "        async function convertToInteractive(key) {\n",
              "          const element = document.querySelector('#df-ccbb1de8-9f00-4d4c-9c43-9f13552b3c73');\n",
              "          const dataTable =\n",
              "            await google.colab.kernel.invokeFunction('convertToInteractive',\n",
              "                                                     [key], {});\n",
              "          if (!dataTable) return;\n",
              "\n",
              "          const docLinkHtml = 'Like what you see? Visit the ' +\n",
              "            '<a target=\"_blank\" href=https://colab.research.google.com/notebooks/data_table.ipynb>data table notebook</a>'\n",
              "            + ' to learn more about interactive tables.';\n",
              "          element.innerHTML = '';\n",
              "          dataTable['output_type'] = 'display_data';\n",
              "          await google.colab.output.renderOutput(dataTable, element);\n",
              "          const docLink = document.createElement('div');\n",
              "          docLink.innerHTML = docLinkHtml;\n",
              "          element.appendChild(docLink);\n",
              "        }\n",
              "      </script>\n",
              "    </div>\n",
              "  </div>\n",
              "  "
            ]
          },
          "metadata": {},
          "execution_count": 13
        }
      ]
    },
    {
      "cell_type": "code",
      "source": [
        "print(df.iloc[0]['MESSAGE'])"
      ],
      "metadata": {
        "colab": {
          "base_uri": "https://localhost:8080/"
        },
        "id": "KWOQT80mX7JA",
        "outputId": "59339bb6-1b27-457b-f2fa-8e2544e767bc"
      },
      "execution_count": null,
      "outputs": [
        {
          "output_type": "stream",
          "name": "stdout",
          "text": [
            "Dear Homeowner,\n",
            "\n",
            " \n",
            "\n",
            "Interest Rates are at their lowest point in 40 years!\n",
            "\n",
            "\n",
            "\n",
            "We help you find the best rate for your situation by\n",
            "\n",
            "matching your needs with hundreds of lenders!\n",
            "\n",
            "\n",
            "\n",
            "Home Improvement, Refinance, Second Mortgage,\n",
            "\n",
            "Home Equity Loans, and More! Even with less than\n",
            "\n",
            "perfect credit!\n",
            "\n",
            "\n",
            "\n",
            "This service is 100% FREE to home owners and new\n",
            "\n",
            "home buyers without any obligation. \n",
            "\n",
            "\n",
            "\n",
            "Just fill out a quick, simple form and jump-start\n",
            "\n",
            "your future plans today!\n",
            "\n",
            "\n",
            "\n",
            "\n",
            "\n",
            "Visit http://61.145.116.186/user0201/index.asp?Afft=QM10\n",
            "\n",
            "\n",
            "\n",
            "\n",
            "\n",
            "\n",
            "\n",
            "\n",
            "\n",
            "\n",
            "\n",
            "\n",
            "\n",
            "To unsubscribe, please visit:\n",
            "\n",
            "\n",
            "\n",
            "http://61.145.116.186/light/watch.asp\n",
            "\n",
            "\n",
            "\n",
            "\n",
            "\n"
          ]
        }
      ]
    },
    {
      "cell_type": "code",
      "source": [
        "print(df.iloc[0]['CATEGORY'])"
      ],
      "metadata": {
        "colab": {
          "base_uri": "https://localhost:8080/"
        },
        "id": "YLb8rVdaYBJj",
        "outputId": "33278ed2-11c9-43f8-82b9-76fa21a31035"
      },
      "execution_count": null,
      "outputs": [
        {
          "output_type": "stream",
          "name": "stdout",
          "text": [
            "1\n"
          ]
        }
      ]
    },
    {
      "cell_type": "code",
      "source": [
        "df = df.sample(frac=1, random_state=2)\n",
        "df = df.reset_index(drop=True)\n",
        "df.head(3)"
      ],
      "metadata": {
        "colab": {
          "base_uri": "https://localhost:8080/",
          "height": 143
        },
        "id": "Pjegn742Y9Q9",
        "outputId": "31387147-a83f-4f3d-dad4-fb6161fa0af3"
      },
      "execution_count": null,
      "outputs": [
        {
          "output_type": "execute_result",
          "data": {
            "text/plain": [
              "   CATEGORY                                            MESSAGE\n",
              "0         0  On 24 Jul 2002, Karl Anderson wrote:\\n\\n\\n\\n--...\n",
              "1         0  This is a multi-part message in MIME format.\\n...\n",
              "2         0  URL: http://www.newsisfree.com/click/-5,853546..."
            ],
            "text/html": [
              "\n",
              "  <div id=\"df-88ec8401-ab3b-4367-a6cb-f7321751e89b\">\n",
              "    <div class=\"colab-df-container\">\n",
              "      <div>\n",
              "<style scoped>\n",
              "    .dataframe tbody tr th:only-of-type {\n",
              "        vertical-align: middle;\n",
              "    }\n",
              "\n",
              "    .dataframe tbody tr th {\n",
              "        vertical-align: top;\n",
              "    }\n",
              "\n",
              "    .dataframe thead th {\n",
              "        text-align: right;\n",
              "    }\n",
              "</style>\n",
              "<table border=\"1\" class=\"dataframe\">\n",
              "  <thead>\n",
              "    <tr style=\"text-align: right;\">\n",
              "      <th></th>\n",
              "      <th>CATEGORY</th>\n",
              "      <th>MESSAGE</th>\n",
              "    </tr>\n",
              "  </thead>\n",
              "  <tbody>\n",
              "    <tr>\n",
              "      <th>0</th>\n",
              "      <td>0</td>\n",
              "      <td>On 24 Jul 2002, Karl Anderson wrote:\\n\\n\\n\\n--...</td>\n",
              "    </tr>\n",
              "    <tr>\n",
              "      <th>1</th>\n",
              "      <td>0</td>\n",
              "      <td>This is a multi-part message in MIME format.\\n...</td>\n",
              "    </tr>\n",
              "    <tr>\n",
              "      <th>2</th>\n",
              "      <td>0</td>\n",
              "      <td>URL: http://www.newsisfree.com/click/-5,853546...</td>\n",
              "    </tr>\n",
              "  </tbody>\n",
              "</table>\n",
              "</div>\n",
              "      <button class=\"colab-df-convert\" onclick=\"convertToInteractive('df-88ec8401-ab3b-4367-a6cb-f7321751e89b')\"\n",
              "              title=\"Convert this dataframe to an interactive table.\"\n",
              "              style=\"display:none;\">\n",
              "        \n",
              "  <svg xmlns=\"http://www.w3.org/2000/svg\" height=\"24px\"viewBox=\"0 0 24 24\"\n",
              "       width=\"24px\">\n",
              "    <path d=\"M0 0h24v24H0V0z\" fill=\"none\"/>\n",
              "    <path d=\"M18.56 5.44l.94 2.06.94-2.06 2.06-.94-2.06-.94-.94-2.06-.94 2.06-2.06.94zm-11 1L8.5 8.5l.94-2.06 2.06-.94-2.06-.94L8.5 2.5l-.94 2.06-2.06.94zm10 10l.94 2.06.94-2.06 2.06-.94-2.06-.94-.94-2.06-.94 2.06-2.06.94z\"/><path d=\"M17.41 7.96l-1.37-1.37c-.4-.4-.92-.59-1.43-.59-.52 0-1.04.2-1.43.59L10.3 9.45l-7.72 7.72c-.78.78-.78 2.05 0 2.83L4 21.41c.39.39.9.59 1.41.59.51 0 1.02-.2 1.41-.59l7.78-7.78 2.81-2.81c.8-.78.8-2.07 0-2.86zM5.41 20L4 18.59l7.72-7.72 1.47 1.35L5.41 20z\"/>\n",
              "  </svg>\n",
              "      </button>\n",
              "      \n",
              "  <style>\n",
              "    .colab-df-container {\n",
              "      display:flex;\n",
              "      flex-wrap:wrap;\n",
              "      gap: 12px;\n",
              "    }\n",
              "\n",
              "    .colab-df-convert {\n",
              "      background-color: #E8F0FE;\n",
              "      border: none;\n",
              "      border-radius: 50%;\n",
              "      cursor: pointer;\n",
              "      display: none;\n",
              "      fill: #1967D2;\n",
              "      height: 32px;\n",
              "      padding: 0 0 0 0;\n",
              "      width: 32px;\n",
              "    }\n",
              "\n",
              "    .colab-df-convert:hover {\n",
              "      background-color: #E2EBFA;\n",
              "      box-shadow: 0px 1px 2px rgba(60, 64, 67, 0.3), 0px 1px 3px 1px rgba(60, 64, 67, 0.15);\n",
              "      fill: #174EA6;\n",
              "    }\n",
              "\n",
              "    [theme=dark] .colab-df-convert {\n",
              "      background-color: #3B4455;\n",
              "      fill: #D2E3FC;\n",
              "    }\n",
              "\n",
              "    [theme=dark] .colab-df-convert:hover {\n",
              "      background-color: #434B5C;\n",
              "      box-shadow: 0px 1px 3px 1px rgba(0, 0, 0, 0.15);\n",
              "      filter: drop-shadow(0px 1px 2px rgba(0, 0, 0, 0.3));\n",
              "      fill: #FFFFFF;\n",
              "    }\n",
              "  </style>\n",
              "\n",
              "      <script>\n",
              "        const buttonEl =\n",
              "          document.querySelector('#df-88ec8401-ab3b-4367-a6cb-f7321751e89b button.colab-df-convert');\n",
              "        buttonEl.style.display =\n",
              "          google.colab.kernel.accessAllowed ? 'block' : 'none';\n",
              "\n",
              "        async function convertToInteractive(key) {\n",
              "          const element = document.querySelector('#df-88ec8401-ab3b-4367-a6cb-f7321751e89b');\n",
              "          const dataTable =\n",
              "            await google.colab.kernel.invokeFunction('convertToInteractive',\n",
              "                                                     [key], {});\n",
              "          if (!dataTable) return;\n",
              "\n",
              "          const docLinkHtml = 'Like what you see? Visit the ' +\n",
              "            '<a target=\"_blank\" href=https://colab.research.google.com/notebooks/data_table.ipynb>data table notebook</a>'\n",
              "            + ' to learn more about interactive tables.';\n",
              "          element.innerHTML = '';\n",
              "          dataTable['output_type'] = 'display_data';\n",
              "          await google.colab.output.renderOutput(dataTable, element);\n",
              "          const docLink = document.createElement('div');\n",
              "          docLink.innerHTML = docLinkHtml;\n",
              "          element.appendChild(docLink);\n",
              "        }\n",
              "      </script>\n",
              "    </div>\n",
              "  </div>\n",
              "  "
            ]
          },
          "metadata": {},
          "execution_count": 16
        }
      ]
    },
    {
      "cell_type": "code",
      "source": [
        "def category_to_label(category_num):\n",
        "  if category_num == 0:\n",
        "    return 'not_spam'\n",
        "  else:\n",
        "    return 'spam'\n",
        "\n",
        "df['CATEGORY_LABEL'] = df['CATEGORY'].apply(category_to_label)\n",
        "\n",
        "df.head(3)"
      ],
      "metadata": {
        "colab": {
          "base_uri": "https://localhost:8080/",
          "height": 143
        },
        "id": "t_lMwmBJZcia",
        "outputId": "12c7dfa2-8bbb-46ee-bacb-fd7e0c8e1861"
      },
      "execution_count": null,
      "outputs": [
        {
          "output_type": "execute_result",
          "data": {
            "text/plain": [
              "   CATEGORY                                            MESSAGE CATEGORY_LABEL\n",
              "0         0  On 24 Jul 2002, Karl Anderson wrote:\\n\\n\\n\\n--...       not_spam\n",
              "1         0  This is a multi-part message in MIME format.\\n...       not_spam\n",
              "2         0  URL: http://www.newsisfree.com/click/-5,853546...       not_spam"
            ],
            "text/html": [
              "\n",
              "  <div id=\"df-66d03418-a087-492e-b3d0-cf1fbcb49d75\">\n",
              "    <div class=\"colab-df-container\">\n",
              "      <div>\n",
              "<style scoped>\n",
              "    .dataframe tbody tr th:only-of-type {\n",
              "        vertical-align: middle;\n",
              "    }\n",
              "\n",
              "    .dataframe tbody tr th {\n",
              "        vertical-align: top;\n",
              "    }\n",
              "\n",
              "    .dataframe thead th {\n",
              "        text-align: right;\n",
              "    }\n",
              "</style>\n",
              "<table border=\"1\" class=\"dataframe\">\n",
              "  <thead>\n",
              "    <tr style=\"text-align: right;\">\n",
              "      <th></th>\n",
              "      <th>CATEGORY</th>\n",
              "      <th>MESSAGE</th>\n",
              "      <th>CATEGORY_LABEL</th>\n",
              "    </tr>\n",
              "  </thead>\n",
              "  <tbody>\n",
              "    <tr>\n",
              "      <th>0</th>\n",
              "      <td>0</td>\n",
              "      <td>On 24 Jul 2002, Karl Anderson wrote:\\n\\n\\n\\n--...</td>\n",
              "      <td>not_spam</td>\n",
              "    </tr>\n",
              "    <tr>\n",
              "      <th>1</th>\n",
              "      <td>0</td>\n",
              "      <td>This is a multi-part message in MIME format.\\n...</td>\n",
              "      <td>not_spam</td>\n",
              "    </tr>\n",
              "    <tr>\n",
              "      <th>2</th>\n",
              "      <td>0</td>\n",
              "      <td>URL: http://www.newsisfree.com/click/-5,853546...</td>\n",
              "      <td>not_spam</td>\n",
              "    </tr>\n",
              "  </tbody>\n",
              "</table>\n",
              "</div>\n",
              "      <button class=\"colab-df-convert\" onclick=\"convertToInteractive('df-66d03418-a087-492e-b3d0-cf1fbcb49d75')\"\n",
              "              title=\"Convert this dataframe to an interactive table.\"\n",
              "              style=\"display:none;\">\n",
              "        \n",
              "  <svg xmlns=\"http://www.w3.org/2000/svg\" height=\"24px\"viewBox=\"0 0 24 24\"\n",
              "       width=\"24px\">\n",
              "    <path d=\"M0 0h24v24H0V0z\" fill=\"none\"/>\n",
              "    <path d=\"M18.56 5.44l.94 2.06.94-2.06 2.06-.94-2.06-.94-.94-2.06-.94 2.06-2.06.94zm-11 1L8.5 8.5l.94-2.06 2.06-.94-2.06-.94L8.5 2.5l-.94 2.06-2.06.94zm10 10l.94 2.06.94-2.06 2.06-.94-2.06-.94-.94-2.06-.94 2.06-2.06.94z\"/><path d=\"M17.41 7.96l-1.37-1.37c-.4-.4-.92-.59-1.43-.59-.52 0-1.04.2-1.43.59L10.3 9.45l-7.72 7.72c-.78.78-.78 2.05 0 2.83L4 21.41c.39.39.9.59 1.41.59.51 0 1.02-.2 1.41-.59l7.78-7.78 2.81-2.81c.8-.78.8-2.07 0-2.86zM5.41 20L4 18.59l7.72-7.72 1.47 1.35L5.41 20z\"/>\n",
              "  </svg>\n",
              "      </button>\n",
              "      \n",
              "  <style>\n",
              "    .colab-df-container {\n",
              "      display:flex;\n",
              "      flex-wrap:wrap;\n",
              "      gap: 12px;\n",
              "    }\n",
              "\n",
              "    .colab-df-convert {\n",
              "      background-color: #E8F0FE;\n",
              "      border: none;\n",
              "      border-radius: 50%;\n",
              "      cursor: pointer;\n",
              "      display: none;\n",
              "      fill: #1967D2;\n",
              "      height: 32px;\n",
              "      padding: 0 0 0 0;\n",
              "      width: 32px;\n",
              "    }\n",
              "\n",
              "    .colab-df-convert:hover {\n",
              "      background-color: #E2EBFA;\n",
              "      box-shadow: 0px 1px 2px rgba(60, 64, 67, 0.3), 0px 1px 3px 1px rgba(60, 64, 67, 0.15);\n",
              "      fill: #174EA6;\n",
              "    }\n",
              "\n",
              "    [theme=dark] .colab-df-convert {\n",
              "      background-color: #3B4455;\n",
              "      fill: #D2E3FC;\n",
              "    }\n",
              "\n",
              "    [theme=dark] .colab-df-convert:hover {\n",
              "      background-color: #434B5C;\n",
              "      box-shadow: 0px 1px 3px 1px rgba(0, 0, 0, 0.15);\n",
              "      filter: drop-shadow(0px 1px 2px rgba(0, 0, 0, 0.3));\n",
              "      fill: #FFFFFF;\n",
              "    }\n",
              "  </style>\n",
              "\n",
              "      <script>\n",
              "        const buttonEl =\n",
              "          document.querySelector('#df-66d03418-a087-492e-b3d0-cf1fbcb49d75 button.colab-df-convert');\n",
              "        buttonEl.style.display =\n",
              "          google.colab.kernel.accessAllowed ? 'block' : 'none';\n",
              "\n",
              "        async function convertToInteractive(key) {\n",
              "          const element = document.querySelector('#df-66d03418-a087-492e-b3d0-cf1fbcb49d75');\n",
              "          const dataTable =\n",
              "            await google.colab.kernel.invokeFunction('convertToInteractive',\n",
              "                                                     [key], {});\n",
              "          if (!dataTable) return;\n",
              "\n",
              "          const docLinkHtml = 'Like what you see? Visit the ' +\n",
              "            '<a target=\"_blank\" href=https://colab.research.google.com/notebooks/data_table.ipynb>data table notebook</a>'\n",
              "            + ' to learn more about interactive tables.';\n",
              "          element.innerHTML = '';\n",
              "          dataTable['output_type'] = 'display_data';\n",
              "          await google.colab.output.renderOutput(dataTable, element);\n",
              "          const docLink = document.createElement('div');\n",
              "          docLink.innerHTML = docLinkHtml;\n",
              "          element.appendChild(docLink);\n",
              "        }\n",
              "      </script>\n",
              "    </div>\n",
              "  </div>\n",
              "  "
            ]
          },
          "metadata": {},
          "execution_count": 17
        }
      ]
    },
    {
      "cell_type": "code",
      "source": [
        "import re\n",
        "\n",
        "def fix_string(s):\n",
        "  whitelist = set('abcdefghijklmnopqrstuvwxyz ABCDEFGHIJKLMNOPQRSTUVWXYZ123456789')\n",
        "  s = ''.join(filter(whitelist.__contains__, s))\n",
        "  return s\n",
        "\n",
        "df['MESSAGE'] = df['MESSAGE'].apply(fix_string)\n",
        "df.head(3)"
      ],
      "metadata": {
        "colab": {
          "base_uri": "https://localhost:8080/",
          "height": 143
        },
        "id": "pJCBgEHeRrnL",
        "outputId": "77c1b690-c6be-4304-d6bc-6d120260b940"
      },
      "execution_count": null,
      "outputs": [
        {
          "output_type": "execute_result",
          "data": {
            "text/plain": [
              "   CATEGORY                                            MESSAGE CATEGORY_LABEL\n",
              "0         0  On 24 Jul 22 Karl Anderson wroteAn interesting...       not_spam\n",
              "1         0  This is a multipart message in MIME formatNext...       not_spam\n",
              "2         0  URL httpwwwnewsisfreecomclick58535466215Date 2...       not_spam"
            ],
            "text/html": [
              "\n",
              "  <div id=\"df-c23d4897-162b-4ff3-b74b-c700607a42b6\">\n",
              "    <div class=\"colab-df-container\">\n",
              "      <div>\n",
              "<style scoped>\n",
              "    .dataframe tbody tr th:only-of-type {\n",
              "        vertical-align: middle;\n",
              "    }\n",
              "\n",
              "    .dataframe tbody tr th {\n",
              "        vertical-align: top;\n",
              "    }\n",
              "\n",
              "    .dataframe thead th {\n",
              "        text-align: right;\n",
              "    }\n",
              "</style>\n",
              "<table border=\"1\" class=\"dataframe\">\n",
              "  <thead>\n",
              "    <tr style=\"text-align: right;\">\n",
              "      <th></th>\n",
              "      <th>CATEGORY</th>\n",
              "      <th>MESSAGE</th>\n",
              "      <th>CATEGORY_LABEL</th>\n",
              "    </tr>\n",
              "  </thead>\n",
              "  <tbody>\n",
              "    <tr>\n",
              "      <th>0</th>\n",
              "      <td>0</td>\n",
              "      <td>On 24 Jul 22 Karl Anderson wroteAn interesting...</td>\n",
              "      <td>not_spam</td>\n",
              "    </tr>\n",
              "    <tr>\n",
              "      <th>1</th>\n",
              "      <td>0</td>\n",
              "      <td>This is a multipart message in MIME formatNext...</td>\n",
              "      <td>not_spam</td>\n",
              "    </tr>\n",
              "    <tr>\n",
              "      <th>2</th>\n",
              "      <td>0</td>\n",
              "      <td>URL httpwwwnewsisfreecomclick58535466215Date 2...</td>\n",
              "      <td>not_spam</td>\n",
              "    </tr>\n",
              "  </tbody>\n",
              "</table>\n",
              "</div>\n",
              "      <button class=\"colab-df-convert\" onclick=\"convertToInteractive('df-c23d4897-162b-4ff3-b74b-c700607a42b6')\"\n",
              "              title=\"Convert this dataframe to an interactive table.\"\n",
              "              style=\"display:none;\">\n",
              "        \n",
              "  <svg xmlns=\"http://www.w3.org/2000/svg\" height=\"24px\"viewBox=\"0 0 24 24\"\n",
              "       width=\"24px\">\n",
              "    <path d=\"M0 0h24v24H0V0z\" fill=\"none\"/>\n",
              "    <path d=\"M18.56 5.44l.94 2.06.94-2.06 2.06-.94-2.06-.94-.94-2.06-.94 2.06-2.06.94zm-11 1L8.5 8.5l.94-2.06 2.06-.94-2.06-.94L8.5 2.5l-.94 2.06-2.06.94zm10 10l.94 2.06.94-2.06 2.06-.94-2.06-.94-.94-2.06-.94 2.06-2.06.94z\"/><path d=\"M17.41 7.96l-1.37-1.37c-.4-.4-.92-.59-1.43-.59-.52 0-1.04.2-1.43.59L10.3 9.45l-7.72 7.72c-.78.78-.78 2.05 0 2.83L4 21.41c.39.39.9.59 1.41.59.51 0 1.02-.2 1.41-.59l7.78-7.78 2.81-2.81c.8-.78.8-2.07 0-2.86zM5.41 20L4 18.59l7.72-7.72 1.47 1.35L5.41 20z\"/>\n",
              "  </svg>\n",
              "      </button>\n",
              "      \n",
              "  <style>\n",
              "    .colab-df-container {\n",
              "      display:flex;\n",
              "      flex-wrap:wrap;\n",
              "      gap: 12px;\n",
              "    }\n",
              "\n",
              "    .colab-df-convert {\n",
              "      background-color: #E8F0FE;\n",
              "      border: none;\n",
              "      border-radius: 50%;\n",
              "      cursor: pointer;\n",
              "      display: none;\n",
              "      fill: #1967D2;\n",
              "      height: 32px;\n",
              "      padding: 0 0 0 0;\n",
              "      width: 32px;\n",
              "    }\n",
              "\n",
              "    .colab-df-convert:hover {\n",
              "      background-color: #E2EBFA;\n",
              "      box-shadow: 0px 1px 2px rgba(60, 64, 67, 0.3), 0px 1px 3px 1px rgba(60, 64, 67, 0.15);\n",
              "      fill: #174EA6;\n",
              "    }\n",
              "\n",
              "    [theme=dark] .colab-df-convert {\n",
              "      background-color: #3B4455;\n",
              "      fill: #D2E3FC;\n",
              "    }\n",
              "\n",
              "    [theme=dark] .colab-df-convert:hover {\n",
              "      background-color: #434B5C;\n",
              "      box-shadow: 0px 1px 3px 1px rgba(0, 0, 0, 0.15);\n",
              "      filter: drop-shadow(0px 1px 2px rgba(0, 0, 0, 0.3));\n",
              "      fill: #FFFFFF;\n",
              "    }\n",
              "  </style>\n",
              "\n",
              "      <script>\n",
              "        const buttonEl =\n",
              "          document.querySelector('#df-c23d4897-162b-4ff3-b74b-c700607a42b6 button.colab-df-convert');\n",
              "        buttonEl.style.display =\n",
              "          google.colab.kernel.accessAllowed ? 'block' : 'none';\n",
              "\n",
              "        async function convertToInteractive(key) {\n",
              "          const element = document.querySelector('#df-c23d4897-162b-4ff3-b74b-c700607a42b6');\n",
              "          const dataTable =\n",
              "            await google.colab.kernel.invokeFunction('convertToInteractive',\n",
              "                                                     [key], {});\n",
              "          if (!dataTable) return;\n",
              "\n",
              "          const docLinkHtml = 'Like what you see? Visit the ' +\n",
              "            '<a target=\"_blank\" href=https://colab.research.google.com/notebooks/data_table.ipynb>data table notebook</a>'\n",
              "            + ' to learn more about interactive tables.';\n",
              "          element.innerHTML = '';\n",
              "          dataTable['output_type'] = 'display_data';\n",
              "          await google.colab.output.renderOutput(dataTable, element);\n",
              "          const docLink = document.createElement('div');\n",
              "          docLink.innerHTML = docLinkHtml;\n",
              "          element.appendChild(docLink);\n",
              "        }\n",
              "      </script>\n",
              "    </div>\n",
              "  </div>\n",
              "  "
            ]
          },
          "metadata": {},
          "execution_count": 18
        }
      ]
    },
    {
      "cell_type": "code",
      "source": [
        "def truncate(message):\n",
        "  word_list = message.split(' ')\n",
        "  word_list = word_list[:400]\n",
        "  word_list = [word[:50] for word in word_list]\n",
        "  message = ''.join([word + ' ' for word in word_list])\n",
        "  message = message[:450]\n",
        "\n",
        "  return message\n",
        "\n",
        "df['TRUNCATED_MESSAGE'] = df['MESSAGE'].apply(truncate)\n",
        "\n",
        "df.head(3)"
      ],
      "metadata": {
        "id": "unTzQnFucbem",
        "colab": {
          "base_uri": "https://localhost:8080/",
          "height": 277
        },
        "outputId": "f95cef6e-7aa3-4770-954d-c976365b85f3"
      },
      "execution_count": null,
      "outputs": [
        {
          "output_type": "execute_result",
          "data": {
            "text/plain": [
              "   CATEGORY                                            MESSAGE CATEGORY_LABEL  \\\n",
              "0         0  On 24 Jul 22 Karl Anderson wroteAn interesting...       not_spam   \n",
              "1         0  This is a multipart message in MIME formatNext...       not_spam   \n",
              "2         0  URL httpwwwnewsisfreecomclick58535466215Date 2...       not_spam   \n",
              "\n",
              "                                   TRUNCATED_MESSAGE  \n",
              "0  On 24 Jul 22 Karl Anderson wroteAn interesting...  \n",
              "1  This is a multipart message in MIME formatNext...  \n",
              "2  URL httpwwwnewsisfreecomclick58535466215Date 2...  "
            ],
            "text/html": [
              "\n",
              "  <div id=\"df-681bc84e-f41f-4372-b0d6-b5e702a2e39d\">\n",
              "    <div class=\"colab-df-container\">\n",
              "      <div>\n",
              "<style scoped>\n",
              "    .dataframe tbody tr th:only-of-type {\n",
              "        vertical-align: middle;\n",
              "    }\n",
              "\n",
              "    .dataframe tbody tr th {\n",
              "        vertical-align: top;\n",
              "    }\n",
              "\n",
              "    .dataframe thead th {\n",
              "        text-align: right;\n",
              "    }\n",
              "</style>\n",
              "<table border=\"1\" class=\"dataframe\">\n",
              "  <thead>\n",
              "    <tr style=\"text-align: right;\">\n",
              "      <th></th>\n",
              "      <th>CATEGORY</th>\n",
              "      <th>MESSAGE</th>\n",
              "      <th>CATEGORY_LABEL</th>\n",
              "      <th>TRUNCATED_MESSAGE</th>\n",
              "    </tr>\n",
              "  </thead>\n",
              "  <tbody>\n",
              "    <tr>\n",
              "      <th>0</th>\n",
              "      <td>0</td>\n",
              "      <td>On 24 Jul 22 Karl Anderson wroteAn interesting...</td>\n",
              "      <td>not_spam</td>\n",
              "      <td>On 24 Jul 22 Karl Anderson wroteAn interesting...</td>\n",
              "    </tr>\n",
              "    <tr>\n",
              "      <th>1</th>\n",
              "      <td>0</td>\n",
              "      <td>This is a multipart message in MIME formatNext...</td>\n",
              "      <td>not_spam</td>\n",
              "      <td>This is a multipart message in MIME formatNext...</td>\n",
              "    </tr>\n",
              "    <tr>\n",
              "      <th>2</th>\n",
              "      <td>0</td>\n",
              "      <td>URL httpwwwnewsisfreecomclick58535466215Date 2...</td>\n",
              "      <td>not_spam</td>\n",
              "      <td>URL httpwwwnewsisfreecomclick58535466215Date 2...</td>\n",
              "    </tr>\n",
              "  </tbody>\n",
              "</table>\n",
              "</div>\n",
              "      <button class=\"colab-df-convert\" onclick=\"convertToInteractive('df-681bc84e-f41f-4372-b0d6-b5e702a2e39d')\"\n",
              "              title=\"Convert this dataframe to an interactive table.\"\n",
              "              style=\"display:none;\">\n",
              "        \n",
              "  <svg xmlns=\"http://www.w3.org/2000/svg\" height=\"24px\"viewBox=\"0 0 24 24\"\n",
              "       width=\"24px\">\n",
              "    <path d=\"M0 0h24v24H0V0z\" fill=\"none\"/>\n",
              "    <path d=\"M18.56 5.44l.94 2.06.94-2.06 2.06-.94-2.06-.94-.94-2.06-.94 2.06-2.06.94zm-11 1L8.5 8.5l.94-2.06 2.06-.94-2.06-.94L8.5 2.5l-.94 2.06-2.06.94zm10 10l.94 2.06.94-2.06 2.06-.94-2.06-.94-.94-2.06-.94 2.06-2.06.94z\"/><path d=\"M17.41 7.96l-1.37-1.37c-.4-.4-.92-.59-1.43-.59-.52 0-1.04.2-1.43.59L10.3 9.45l-7.72 7.72c-.78.78-.78 2.05 0 2.83L4 21.41c.39.39.9.59 1.41.59.51 0 1.02-.2 1.41-.59l7.78-7.78 2.81-2.81c.8-.78.8-2.07 0-2.86zM5.41 20L4 18.59l7.72-7.72 1.47 1.35L5.41 20z\"/>\n",
              "  </svg>\n",
              "      </button>\n",
              "      \n",
              "  <style>\n",
              "    .colab-df-container {\n",
              "      display:flex;\n",
              "      flex-wrap:wrap;\n",
              "      gap: 12px;\n",
              "    }\n",
              "\n",
              "    .colab-df-convert {\n",
              "      background-color: #E8F0FE;\n",
              "      border: none;\n",
              "      border-radius: 50%;\n",
              "      cursor: pointer;\n",
              "      display: none;\n",
              "      fill: #1967D2;\n",
              "      height: 32px;\n",
              "      padding: 0 0 0 0;\n",
              "      width: 32px;\n",
              "    }\n",
              "\n",
              "    .colab-df-convert:hover {\n",
              "      background-color: #E2EBFA;\n",
              "      box-shadow: 0px 1px 2px rgba(60, 64, 67, 0.3), 0px 1px 3px 1px rgba(60, 64, 67, 0.15);\n",
              "      fill: #174EA6;\n",
              "    }\n",
              "\n",
              "    [theme=dark] .colab-df-convert {\n",
              "      background-color: #3B4455;\n",
              "      fill: #D2E3FC;\n",
              "    }\n",
              "\n",
              "    [theme=dark] .colab-df-convert:hover {\n",
              "      background-color: #434B5C;\n",
              "      box-shadow: 0px 1px 3px 1px rgba(0, 0, 0, 0.15);\n",
              "      filter: drop-shadow(0px 1px 2px rgba(0, 0, 0, 0.3));\n",
              "      fill: #FFFFFF;\n",
              "    }\n",
              "  </style>\n",
              "\n",
              "      <script>\n",
              "        const buttonEl =\n",
              "          document.querySelector('#df-681bc84e-f41f-4372-b0d6-b5e702a2e39d button.colab-df-convert');\n",
              "        buttonEl.style.display =\n",
              "          google.colab.kernel.accessAllowed ? 'block' : 'none';\n",
              "\n",
              "        async function convertToInteractive(key) {\n",
              "          const element = document.querySelector('#df-681bc84e-f41f-4372-b0d6-b5e702a2e39d');\n",
              "          const dataTable =\n",
              "            await google.colab.kernel.invokeFunction('convertToInteractive',\n",
              "                                                     [key], {});\n",
              "          if (!dataTable) return;\n",
              "\n",
              "          const docLinkHtml = 'Like what you see? Visit the ' +\n",
              "            '<a target=\"_blank\" href=https://colab.research.google.com/notebooks/data_table.ipynb>data table notebook</a>'\n",
              "            + ' to learn more about interactive tables.';\n",
              "          element.innerHTML = '';\n",
              "          dataTable['output_type'] = 'display_data';\n",
              "          await google.colab.output.renderOutput(dataTable, element);\n",
              "          const docLink = document.createElement('div');\n",
              "          docLink.innerHTML = docLinkHtml;\n",
              "          element.appendChild(docLink);\n",
              "        }\n",
              "      </script>\n",
              "    </div>\n",
              "  </div>\n",
              "  "
            ]
          },
          "metadata": {},
          "execution_count": 19
        }
      ]
    },
    {
      "cell_type": "code",
      "source": [
        "TRAIN_SIZE = 100\n",
        "\n",
        "examples = [Example(message, label) for message, label in zip(df['TRUNCATED_MESSAGE'][:TRAIN_SIZE],\n",
        "                                                              df['CATEGORY_LABEL'][:TRAIN_SIZE])]"
      ],
      "metadata": {
        "id": "vBdv4kGXYNg0"
      },
      "execution_count": null,
      "outputs": []
    },
    {
      "cell_type": "code",
      "source": [
        "len(examples)"
      ],
      "metadata": {
        "colab": {
          "base_uri": "https://localhost:8080/"
        },
        "id": "tX8k0Atob35K",
        "outputId": "1eee9d9f-f877-48a6-c74b-714c9eeb5be6"
      },
      "execution_count": null,
      "outputs": [
        {
          "output_type": "execute_result",
          "data": {
            "text/plain": [
              "100"
            ]
          },
          "metadata": {},
          "execution_count": 21
        }
      ]
    },
    {
      "cell_type": "code",
      "source": [
        "examples[0]"
      ],
      "metadata": {
        "colab": {
          "base_uri": "https://localhost:8080/"
        },
        "id": "PrlKJnmKb0is",
        "outputId": "6d5034e0-8d9d-4e8a-fd7b-90e903d1a30f"
      },
      "execution_count": null,
      "outputs": [
        {
          "output_type": "execute_result",
          "data": {
            "text/plain": [
              "Example(text='On 24 Jul 22 Karl Anderson wroteAn interesting idea I heard of was to use gene maps  genetic infoabout animals to guide the breeding process  essentially shorteningthe iteration time with genetic information but not touching anygenes themselvesThats where the gentic Purists bredding program was heading Hitler wethimslef when his big brains laid out the plan of forced natural selectionimages of strong young blonde boys marching around him sent him', label='not_spam')"
            ]
          },
          "metadata": {},
          "execution_count": 22
        }
      ]
    },
    {
      "cell_type": "code",
      "source": [
        "inputs = df['TRUNCATED_MESSAGE'][TRAIN_SIZE:].tolist()\n",
        "len(inputs)"
      ],
      "metadata": {
        "colab": {
          "base_uri": "https://localhost:8080/"
        },
        "id": "ktZyF8GNYyiv",
        "outputId": "2a7c4461-e16b-49dd-ba2b-bb71b3a2a1df"
      },
      "execution_count": null,
      "outputs": [
        {
          "output_type": "execute_result",
          "data": {
            "text/plain": [
              "5696"
            ]
          },
          "metadata": {},
          "execution_count": 23
        }
      ]
    },
    {
      "cell_type": "code",
      "source": [
        "MODEL_TYPE = 'medium'\n",
        "\n",
        "first_response = co.classify(model=MODEL_TYPE,\n",
        "                          inputs=inputs[:2000],\n",
        "                          examples=examples)\n",
        "\n",
        "second_response = co.classify(model=MODEL_TYPE,\n",
        "                              inputs=inputs[2000:4000],\n",
        "                              examples=examples)\n",
        "\n",
        "third_response = co.classify(model=MODEL_TYPE,\n",
        "                              inputs=inputs[4000:],\n",
        "                              examples=examples)\n",
        "\n",
        "print(first_response)"
      ],
      "metadata": {
        "colab": {
          "base_uri": "https://localhost:8080/"
        },
        "id": "MwqwEIa1ODGJ",
        "outputId": "0121fb10-8751-4c15-8a2b-93d6a5b6a4f6"
      },
      "execution_count": null,
      "outputs": [
        {
          "output_type": "stream",
          "name": "stdout",
          "text": [
            "[Classification<prediction: \"not_spam\", confidence: 0.999908>, Classification<prediction: \"not_spam\", confidence: 0.9991211>, Classification<prediction: \"spam\", confidence: 0.5316735>, Classification<prediction: \"not_spam\", confidence: 0.99990135>, Classification<prediction: \"not_spam\", confidence: 0.9989068>, Classification<prediction: \"spam\", confidence: 0.9998794>, Classification<prediction: \"spam\", confidence: 0.99988574>, Classification<prediction: \"not_spam\", confidence: 0.99782336>, Classification<prediction: \"not_spam\", confidence: 0.99999744>, Classification<prediction: \"not_spam\", confidence: 0.99969196>, Classification<prediction: \"not_spam\", confidence: 0.9561923>, Classification<prediction: \"not_spam\", confidence: 0.999722>, Classification<prediction: \"not_spam\", confidence: 0.99996895>, Classification<prediction: \"not_spam\", confidence: 0.9994288>, Classification<prediction: \"not_spam\", confidence: 0.99157727>, Classification<prediction: \"not_spam\", confidence: 0.99958396>, Classification<prediction: \"not_spam\", confidence: 0.9999631>, Classification<prediction: \"not_spam\", confidence: 0.9999529>, Classification<prediction: \"not_spam\", confidence: 0.9701288>, Classification<prediction: \"not_spam\", confidence: 0.9999436>, Classification<prediction: \"not_spam\", confidence: 0.99953294>, Classification<prediction: \"not_spam\", confidence: 0.9998387>, Classification<prediction: \"spam\", confidence: 0.64757305>, Classification<prediction: \"spam\", confidence: 0.9794492>, Classification<prediction: \"not_spam\", confidence: 0.9997301>, Classification<prediction: \"not_spam\", confidence: 0.998128>, Classification<prediction: \"not_spam\", confidence: 0.9993725>, Classification<prediction: \"not_spam\", confidence: 0.99999106>, Classification<prediction: \"not_spam\", confidence: 0.9995661>, Classification<prediction: \"spam\", confidence: 0.9791017>, Classification<prediction: \"not_spam\", confidence: 0.99946046>, Classification<prediction: \"spam\", confidence: 0.8829382>, Classification<prediction: \"not_spam\", confidence: 0.9998419>, Classification<prediction: \"spam\", confidence: 0.9970173>, Classification<prediction: \"not_spam\", confidence: 0.99778354>, Classification<prediction: \"not_spam\", confidence: 0.9990935>, Classification<prediction: \"not_spam\", confidence: 0.9999762>, Classification<prediction: \"not_spam\", confidence: 0.9981558>, Classification<prediction: \"not_spam\", confidence: 0.99972177>, Classification<prediction: \"not_spam\", confidence: 0.9992543>, Classification<prediction: \"not_spam\", confidence: 0.9999982>, Classification<prediction: \"spam\", confidence: 0.9991475>, Classification<prediction: \"not_spam\", confidence: 0.99972135>, Classification<prediction: \"not_spam\", confidence: 0.9998506>, Classification<prediction: \"not_spam\", confidence: 0.9990965>, Classification<prediction: \"spam\", confidence: 0.99904865>, Classification<prediction: \"spam\", confidence: 0.99986196>, Classification<prediction: \"not_spam\", confidence: 0.9999774>, Classification<prediction: \"spam\", confidence: 0.9959957>, Classification<prediction: \"not_spam\", confidence: 0.9999826>, Classification<prediction: \"spam\", confidence: 0.9996123>, Classification<prediction: \"spam\", confidence: 0.9976459>, Classification<prediction: \"spam\", confidence: 0.99996233>, Classification<prediction: \"not_spam\", confidence: 0.99998814>, Classification<prediction: \"spam\", confidence: 0.9913121>, Classification<prediction: \"not_spam\", confidence: 0.99181896>, Classification<prediction: \"not_spam\", confidence: 0.9977537>, Classification<prediction: \"not_spam\", confidence: 0.99945563>, Classification<prediction: \"not_spam\", confidence: 0.9998138>, Classification<prediction: \"spam\", confidence: 0.9998366>, Classification<prediction: \"not_spam\", confidence: 0.54790854>, Classification<prediction: \"not_spam\", confidence: 0.9999974>, Classification<prediction: \"not_spam\", confidence: 0.99777615>, Classification<prediction: \"spam\", confidence: 0.7923897>, Classification<prediction: \"not_spam\", confidence: 0.9999554>, Classification<prediction: \"not_spam\", confidence: 0.9999798>, Classification<prediction: \"not_spam\", confidence: 0.9998983>, Classification<prediction: \"not_spam\", confidence: 0.99904066>, Classification<prediction: \"not_spam\", confidence: 0.99986523>, Classification<prediction: \"not_spam\", confidence: 0.9999484>, Classification<prediction: \"not_spam\", confidence: 0.9997714>, Classification<prediction: \"not_spam\", confidence: 0.9998004>, Classification<prediction: \"not_spam\", confidence: 0.9997356>, Classification<prediction: \"not_spam\", confidence: 0.98726386>, Classification<prediction: \"not_spam\", confidence: 0.99990714>, Classification<prediction: \"not_spam\", confidence: 0.9999289>, Classification<prediction: \"spam\", confidence: 0.9994095>, Classification<prediction: \"spam\", confidence: 0.9995249>, Classification<prediction: \"not_spam\", confidence: 0.9997411>, Classification<prediction: \"spam\", confidence: 0.9968021>, Classification<prediction: \"spam\", confidence: 0.9964716>, Classification<prediction: \"spam\", confidence: 0.9498842>, Classification<prediction: \"not_spam\", confidence: 0.999962>, Classification<prediction: \"spam\", confidence: 0.99995816>, Classification<prediction: \"not_spam\", confidence: 0.999997>, Classification<prediction: \"not_spam\", confidence: 0.99954766>, Classification<prediction: \"not_spam\", confidence: 0.9999693>, Classification<prediction: \"not_spam\", confidence: 0.99869275>, Classification<prediction: \"not_spam\", confidence: 0.9990996>, Classification<prediction: \"not_spam\", confidence: 0.9999988>, Classification<prediction: \"not_spam\", confidence: 0.9999961>, Classification<prediction: \"spam\", confidence: 0.99993116>, Classification<prediction: \"not_spam\", confidence: 0.999872>, Classification<prediction: \"not_spam\", confidence: 0.9999999>, Classification<prediction: \"not_spam\", confidence: 0.9998927>, Classification<prediction: \"spam\", confidence: 0.99993>, Classification<prediction: \"not_spam\", confidence: 0.999989>, Classification<prediction: \"not_spam\", confidence: 0.99926174>, Classification<prediction: \"spam\", confidence: 0.99977666>, Classification<prediction: \"spam\", confidence: 0.9990402>, Classification<prediction: \"spam\", confidence: 0.99872684>, Classification<prediction: \"not_spam\", confidence: 0.9999718>, Classification<prediction: \"spam\", confidence: 0.9998787>, Classification<prediction: \"spam\", confidence: 0.9969779>, Classification<prediction: \"not_spam\", confidence: 0.9940452>, Classification<prediction: \"spam\", confidence: 0.99260294>, Classification<prediction: \"not_spam\", confidence: 0.99991876>, Classification<prediction: \"not_spam\", confidence: 0.9999239>, Classification<prediction: \"spam\", confidence: 0.99977076>, Classification<prediction: \"not_spam\", confidence: 0.9916234>, Classification<prediction: \"spam\", confidence: 0.99785674>, Classification<prediction: \"not_spam\", confidence: 0.9997744>, Classification<prediction: \"not_spam\", confidence: 0.9999334>, Classification<prediction: \"not_spam\", confidence: 0.9999743>, Classification<prediction: \"not_spam\", confidence: 0.9999634>, Classification<prediction: \"not_spam\", confidence: 0.9998785>, Classification<prediction: \"not_spam\", confidence: 0.9997291>, Classification<prediction: \"not_spam\", confidence: 0.9998253>, Classification<prediction: \"spam\", confidence: 0.8678457>, Classification<prediction: \"spam\", confidence: 0.9999965>, Classification<prediction: \"not_spam\", confidence: 0.9998716>, Classification<prediction: \"spam\", confidence: 0.82301515>, Classification<prediction: \"not_spam\", confidence: 0.9999899>, Classification<prediction: \"not_spam\", confidence: 0.9969562>, Classification<prediction: \"not_spam\", confidence: 0.99874926>, Classification<prediction: \"spam\", confidence: 0.9995152>, Classification<prediction: \"not_spam\", confidence: 0.99984646>, Classification<prediction: \"not_spam\", confidence: 0.7457461>, Classification<prediction: \"not_spam\", confidence: 0.99924606>, Classification<prediction: \"not_spam\", confidence: 0.99901515>, Classification<prediction: \"spam\", confidence: 0.99996567>, Classification<prediction: \"spam\", confidence: 0.99936056>, Classification<prediction: \"spam\", confidence: 0.99961984>, Classification<prediction: \"not_spam\", confidence: 0.9257674>, Classification<prediction: \"not_spam\", confidence: 0.9958558>, Classification<prediction: \"not_spam\", confidence: 0.99992436>, Classification<prediction: \"not_spam\", confidence: 0.93919486>, Classification<prediction: \"not_spam\", confidence: 0.99498826>, Classification<prediction: \"not_spam\", confidence: 0.99996614>, Classification<prediction: \"spam\", confidence: 0.9988558>, Classification<prediction: \"not_spam\", confidence: 0.9999797>, Classification<prediction: \"not_spam\", confidence: 0.9979658>, Classification<prediction: \"not_spam\", confidence: 0.9997202>, Classification<prediction: \"not_spam\", confidence: 0.99999243>, Classification<prediction: \"spam\", confidence: 0.9988913>, Classification<prediction: \"not_spam\", confidence: 0.9999915>, Classification<prediction: \"not_spam\", confidence: 0.99535406>, Classification<prediction: \"not_spam\", confidence: 0.9998103>, Classification<prediction: \"not_spam\", confidence: 0.9999444>, Classification<prediction: \"not_spam\", confidence: 0.99714565>, Classification<prediction: \"not_spam\", confidence: 0.99996555>, Classification<prediction: \"not_spam\", confidence: 0.9999755>, Classification<prediction: \"spam\", confidence: 0.9999448>, Classification<prediction: \"spam\", confidence: 0.99999595>, Classification<prediction: \"not_spam\", confidence: 0.9999951>, Classification<prediction: \"not_spam\", confidence: 0.99993366>, Classification<prediction: \"not_spam\", confidence: 0.9997017>, Classification<prediction: \"not_spam\", confidence: 0.999937>, Classification<prediction: \"spam\", confidence: 0.99978375>, Classification<prediction: \"not_spam\", confidence: 0.99996406>, Classification<prediction: \"not_spam\", confidence: 0.907016>, Classification<prediction: \"not_spam\", confidence: 0.99910975>, Classification<prediction: \"not_spam\", confidence: 0.99999154>, Classification<prediction: \"not_spam\", confidence: 0.9996846>, Classification<prediction: \"not_spam\", confidence: 0.9999676>, Classification<prediction: \"not_spam\", confidence: 0.7545844>, Classification<prediction: \"not_spam\", confidence: 0.9989639>, Classification<prediction: \"spam\", confidence: 0.99993503>, Classification<prediction: \"not_spam\", confidence: 0.9619981>, Classification<prediction: \"not_spam\", confidence: 0.9999655>, Classification<prediction: \"not_spam\", confidence: 0.99769366>, Classification<prediction: \"not_spam\", confidence: 0.9999713>, Classification<prediction: \"not_spam\", confidence: 0.99983215>, Classification<prediction: \"not_spam\", confidence: 0.9971964>, Classification<prediction: \"spam\", confidence: 0.9840361>, Classification<prediction: \"spam\", confidence: 0.99946916>, Classification<prediction: \"not_spam\", confidence: 0.99639034>, Classification<prediction: \"not_spam\", confidence: 0.9992404>, Classification<prediction: \"not_spam\", confidence: 0.8857125>, Classification<prediction: \"spam\", confidence: 0.99993217>, Classification<prediction: \"spam\", confidence: 0.99092406>, Classification<prediction: \"spam\", confidence: 0.99216086>, Classification<prediction: \"not_spam\", confidence: 0.9998015>, Classification<prediction: \"spam\", confidence: 0.99979967>, Classification<prediction: \"not_spam\", confidence: 0.9999986>, Classification<prediction: \"spam\", confidence: 0.8991004>, Classification<prediction: \"not_spam\", confidence: 0.9436303>, Classification<prediction: \"spam\", confidence: 0.99996394>, Classification<prediction: \"not_spam\", confidence: 0.9986009>, Classification<prediction: \"spam\", confidence: 0.9559552>, Classification<prediction: \"not_spam\", confidence: 0.99972343>, Classification<prediction: \"not_spam\", confidence: 0.9433175>, Classification<prediction: \"spam\", confidence: 0.5908349>, Classification<prediction: \"not_spam\", confidence: 0.9999626>, Classification<prediction: \"not_spam\", confidence: 0.9999948>, Classification<prediction: \"not_spam\", confidence: 0.9439805>, Classification<prediction: \"not_spam\", confidence: 0.9998146>, Classification<prediction: \"not_spam\", confidence: 0.99993837>, Classification<prediction: \"spam\", confidence: 0.999959>, Classification<prediction: \"spam\", confidence: 0.99949>, Classification<prediction: \"spam\", confidence: 0.99204034>, Classification<prediction: \"not_spam\", confidence: 0.9999672>, Classification<prediction: \"not_spam\", confidence: 0.999749>, Classification<prediction: \"not_spam\", confidence: 0.99996597>, Classification<prediction: \"spam\", confidence: 0.8502511>, Classification<prediction: \"not_spam\", confidence: 0.99999654>, Classification<prediction: \"not_spam\", confidence: 0.99998224>, Classification<prediction: \"not_spam\", confidence: 0.9996063>, Classification<prediction: \"not_spam\", confidence: 0.68140924>, Classification<prediction: \"not_spam\", confidence: 0.99945045>, Classification<prediction: \"not_spam\", confidence: 0.9999972>, Classification<prediction: \"spam\", confidence: 0.99987805>, Classification<prediction: \"spam\", confidence: 0.99988836>, Classification<prediction: \"not_spam\", confidence: 0.98666465>, Classification<prediction: \"not_spam\", confidence: 0.9999989>, Classification<prediction: \"not_spam\", confidence: 0.9998568>, Classification<prediction: \"not_spam\", confidence: 0.99807036>, Classification<prediction: \"not_spam\", confidence: 0.99997616>, Classification<prediction: \"not_spam\", confidence: 0.9993749>, Classification<prediction: \"spam\", confidence: 0.999901>, Classification<prediction: \"spam\", confidence: 0.9999541>, Classification<prediction: \"not_spam\", confidence: 0.999949>, Classification<prediction: \"spam\", confidence: 0.9992855>, Classification<prediction: \"spam\", confidence: 0.99999505>, Classification<prediction: \"spam\", confidence: 0.9905041>, Classification<prediction: \"spam\", confidence: 0.9621847>, Classification<prediction: \"not_spam\", confidence: 0.9998773>, Classification<prediction: \"not_spam\", confidence: 0.9994374>, Classification<prediction: \"spam\", confidence: 0.9999513>, Classification<prediction: \"not_spam\", confidence: 0.99999523>, Classification<prediction: \"not_spam\", confidence: 0.99990946>, Classification<prediction: \"not_spam\", confidence: 0.9957202>, Classification<prediction: \"spam\", confidence: 0.9901404>, Classification<prediction: \"spam\", confidence: 0.9999155>, Classification<prediction: \"not_spam\", confidence: 0.9990298>, Classification<prediction: \"not_spam\", confidence: 0.999687>, Classification<prediction: \"spam\", confidence: 0.9999927>, Classification<prediction: \"not_spam\", confidence: 0.99951667>, Classification<prediction: \"not_spam\", confidence: 0.9999895>, Classification<prediction: \"not_spam\", confidence: 0.9782112>, Classification<prediction: \"not_spam\", confidence: 0.9989144>, Classification<prediction: \"not_spam\", confidence: 0.9973553>, Classification<prediction: \"spam\", confidence: 0.99996775>, Classification<prediction: \"not_spam\", confidence: 0.9999918>, Classification<prediction: \"spam\", confidence: 0.9993746>, Classification<prediction: \"spam\", confidence: 0.9917636>, Classification<prediction: \"not_spam\", confidence: 0.9999613>, Classification<prediction: \"not_spam\", confidence: 0.9999143>, Classification<prediction: \"not_spam\", confidence: 0.99176854>, Classification<prediction: \"not_spam\", confidence: 0.998128>, Classification<prediction: \"spam\", confidence: 0.7855002>, Classification<prediction: \"not_spam\", confidence: 0.99991>, Classification<prediction: \"not_spam\", confidence: 0.9996361>, Classification<prediction: \"not_spam\", confidence: 0.9999581>, Classification<prediction: \"not_spam\", confidence: 0.9985518>, Classification<prediction: \"not_spam\", confidence: 0.99664253>, Classification<prediction: \"not_spam\", confidence: 0.99918056>, Classification<prediction: \"spam\", confidence: 0.9999036>, Classification<prediction: \"not_spam\", confidence: 0.99925303>, Classification<prediction: \"not_spam\", confidence: 0.9998949>, Classification<prediction: \"not_spam\", confidence: 0.99995136>, Classification<prediction: \"spam\", confidence: 0.99980724>, Classification<prediction: \"not_spam\", confidence: 0.9999942>, Classification<prediction: \"not_spam\", confidence: 0.9998191>, Classification<prediction: \"not_spam\", confidence: 0.9998685>, Classification<prediction: \"not_spam\", confidence: 0.99899304>, Classification<prediction: \"not_spam\", confidence: 0.9932432>, Classification<prediction: \"not_spam\", confidence: 0.98234063>, Classification<prediction: \"spam\", confidence: 0.9222469>, Classification<prediction: \"not_spam\", confidence: 0.71061903>, Classification<prediction: \"spam\", confidence: 0.99978995>, Classification<prediction: \"spam\", confidence: 0.9961743>, Classification<prediction: \"not_spam\", confidence: 0.99540776>, Classification<prediction: \"not_spam\", confidence: 0.99818206>, Classification<prediction: \"not_spam\", confidence: 0.9953347>, Classification<prediction: \"not_spam\", confidence: 0.99999696>, Classification<prediction: \"not_spam\", confidence: 0.99999803>, Classification<prediction: \"not_spam\", confidence: 0.99983704>, Classification<prediction: \"not_spam\", confidence: 0.99979657>, Classification<prediction: \"not_spam\", confidence: 0.99992037>, Classification<prediction: \"not_spam\", confidence: 0.999802>, Classification<prediction: \"spam\", confidence: 0.9997442>, Classification<prediction: \"not_spam\", confidence: 0.99984974>, Classification<prediction: \"not_spam\", confidence: 0.9946722>, Classification<prediction: \"not_spam\", confidence: 0.9999555>, Classification<prediction: \"not_spam\", confidence: 0.9999996>, Classification<prediction: \"spam\", confidence: 0.9954289>, Classification<prediction: \"not_spam\", confidence: 0.9998516>, Classification<prediction: \"not_spam\", confidence: 0.99977213>, Classification<prediction: \"spam\", confidence: 0.99961126>, Classification<prediction: \"not_spam\", confidence: 0.99977106>, Classification<prediction: \"not_spam\", confidence: 0.9999843>, Classification<prediction: \"spam\", confidence: 0.8008576>, Classification<prediction: \"spam\", confidence: 0.88360304>, Classification<prediction: \"not_spam\", confidence: 0.9999212>, Classification<prediction: \"not_spam\", confidence: 0.9992434>, Classification<prediction: \"spam\", confidence: 0.9984283>, Classification<prediction: \"not_spam\", confidence: 0.9999331>, Classification<prediction: \"not_spam\", confidence: 0.99998015>, Classification<prediction: \"not_spam\", confidence: 0.9998099>, Classification<prediction: \"not_spam\", confidence: 0.99999446>, Classification<prediction: \"not_spam\", confidence: 0.9994018>, Classification<prediction: \"spam\", confidence: 0.9271277>, Classification<prediction: \"not_spam\", confidence: 0.9999898>, Classification<prediction: \"not_spam\", confidence: 0.99669516>, Classification<prediction: \"not_spam\", confidence: 0.99916786>, Classification<prediction: \"not_spam\", confidence: 0.99998486>, Classification<prediction: \"spam\", confidence: 0.9990476>, Classification<prediction: \"spam\", confidence: 0.79511833>, Classification<prediction: \"not_spam\", confidence: 0.9556921>, Classification<prediction: \"not_spam\", confidence: 0.9999988>, Classification<prediction: \"spam\", confidence: 0.9987043>, Classification<prediction: \"not_spam\", confidence: 0.9983127>, Classification<prediction: \"spam\", confidence: 0.9991724>, Classification<prediction: \"not_spam\", confidence: 0.9877594>, Classification<prediction: \"not_spam\", confidence: 0.99999374>, Classification<prediction: \"spam\", confidence: 0.5217338>, Classification<prediction: \"not_spam\", confidence: 0.9999624>, Classification<prediction: \"not_spam\", confidence: 0.5201251>, Classification<prediction: \"spam\", confidence: 0.9411252>, Classification<prediction: \"not_spam\", confidence: 0.99856097>, Classification<prediction: \"not_spam\", confidence: 0.9999865>, Classification<prediction: \"spam\", confidence: 0.9997557>, Classification<prediction: \"spam\", confidence: 0.99724835>, Classification<prediction: \"not_spam\", confidence: 0.98353565>, Classification<prediction: \"spam\", confidence: 0.9999983>, Classification<prediction: \"not_spam\", confidence: 0.9990039>, Classification<prediction: \"not_spam\", confidence: 0.9992764>, Classification<prediction: \"spam\", confidence: 0.6978939>, Classification<prediction: \"spam\", confidence: 0.99429023>, Classification<prediction: \"not_spam\", confidence: 0.9999949>, Classification<prediction: \"spam\", confidence: 0.99801534>, Classification<prediction: \"not_spam\", confidence: 0.9909889>, Classification<prediction: \"not_spam\", confidence: 0.61422646>, Classification<prediction: \"not_spam\", confidence: 0.68792266>, Classification<prediction: \"spam\", confidence: 0.99943966>, Classification<prediction: \"spam\", confidence: 0.9907426>, Classification<prediction: \"not_spam\", confidence: 0.9999924>, Classification<prediction: \"not_spam\", confidence: 0.99940765>, Classification<prediction: \"not_spam\", confidence: 0.9947941>, Classification<prediction: \"spam\", confidence: 0.94223213>, Classification<prediction: \"not_spam\", confidence: 0.9996453>, Classification<prediction: \"not_spam\", confidence: 0.9999359>, Classification<prediction: \"not_spam\", confidence: 0.9997587>, Classification<prediction: \"spam\", confidence: 0.977702>, Classification<prediction: \"not_spam\", confidence: 0.99998415>, Classification<prediction: \"not_spam\", confidence: 0.99985397>, Classification<prediction: \"not_spam\", confidence: 0.9999919>, Classification<prediction: \"not_spam\", confidence: 0.9999498>, Classification<prediction: \"not_spam\", confidence: 0.9999947>, Classification<prediction: \"not_spam\", confidence: 0.99811065>, Classification<prediction: \"not_spam\", confidence: 0.99994785>, Classification<prediction: \"not_spam\", confidence: 0.99925566>, Classification<prediction: \"not_spam\", confidence: 0.9999957>, Classification<prediction: \"not_spam\", confidence: 0.9998109>, Classification<prediction: \"not_spam\", confidence: 0.9997684>, Classification<prediction: \"not_spam\", confidence: 0.9999983>, Classification<prediction: \"spam\", confidence: 0.9996239>, Classification<prediction: \"not_spam\", confidence: 0.99630564>, Classification<prediction: \"spam\", confidence: 0.9997268>, Classification<prediction: \"spam\", confidence: 0.9990799>, Classification<prediction: \"not_spam\", confidence: 0.9996371>, Classification<prediction: \"not_spam\", confidence: 0.9999838>, Classification<prediction: \"not_spam\", confidence: 0.997533>, Classification<prediction: \"not_spam\", confidence: 0.9983788>, Classification<prediction: \"spam\", confidence: 0.99847364>, Classification<prediction: \"not_spam\", confidence: 0.9999872>, Classification<prediction: \"not_spam\", confidence: 0.9999039>, Classification<prediction: \"not_spam\", confidence: 0.9982815>, Classification<prediction: \"not_spam\", confidence: 0.9970924>, Classification<prediction: \"not_spam\", confidence: 0.99987686>, Classification<prediction: \"not_spam\", confidence: 0.99974424>, Classification<prediction: \"spam\", confidence: 0.6688464>, Classification<prediction: \"spam\", confidence: 0.97421324>, Classification<prediction: \"not_spam\", confidence: 0.9999823>, Classification<prediction: \"not_spam\", confidence: 0.99997276>, Classification<prediction: \"not_spam\", confidence: 0.9582425>, Classification<prediction: \"not_spam\", confidence: 0.9993959>, Classification<prediction: \"not_spam\", confidence: 0.999997>, Classification<prediction: \"not_spam\", confidence: 0.99945384>, Classification<prediction: \"not_spam\", confidence: 0.9843112>, Classification<prediction: \"spam\", confidence: 0.99985284>, Classification<prediction: \"spam\", confidence: 0.80263466>, Classification<prediction: \"not_spam\", confidence: 0.99625665>, Classification<prediction: \"not_spam\", confidence: 0.997936>, Classification<prediction: \"not_spam\", confidence: 0.9957964>, Classification<prediction: \"not_spam\", confidence: 0.999379>, Classification<prediction: \"not_spam\", confidence: 0.9955752>, Classification<prediction: \"not_spam\", confidence: 0.9999921>, Classification<prediction: \"spam\", confidence: 0.9999695>, Classification<prediction: \"spam\", confidence: 0.9999767>, Classification<prediction: \"not_spam\", confidence: 0.97259563>, Classification<prediction: \"spam\", confidence: 0.9904207>, Classification<prediction: \"not_spam\", confidence: 0.9963565>, Classification<prediction: \"not_spam\", confidence: 0.9993075>, Classification<prediction: \"not_spam\", confidence: 0.9999965>, Classification<prediction: \"not_spam\", confidence: 0.99838585>, Classification<prediction: \"spam\", confidence: 0.83732605>, Classification<prediction: \"spam\", confidence: 0.99995613>, Classification<prediction: \"spam\", confidence: 0.99939483>, Classification<prediction: \"spam\", confidence: 0.9989373>, Classification<prediction: \"not_spam\", confidence: 0.99997157>, Classification<prediction: \"not_spam\", confidence: 0.7985091>, Classification<prediction: \"not_spam\", confidence: 0.99988616>, Classification<prediction: \"not_spam\", confidence: 0.99622834>, Classification<prediction: \"spam\", confidence: 0.94831616>, Classification<prediction: \"spam\", confidence: 0.998174>, Classification<prediction: \"not_spam\", confidence: 0.9987609>, Classification<prediction: \"not_spam\", confidence: 0.98760843>, Classification<prediction: \"not_spam\", confidence: 0.8833019>, Classification<prediction: \"not_spam\", confidence: 0.9318895>, Classification<prediction: \"not_spam\", confidence: 0.95654184>, Classification<prediction: \"spam\", confidence: 0.99847364>, Classification<prediction: \"spam\", confidence: 0.99934345>, Classification<prediction: \"not_spam\", confidence: 0.9998432>, Classification<prediction: \"not_spam\", confidence: 0.99988514>, Classification<prediction: \"spam\", confidence: 0.9870877>, Classification<prediction: \"not_spam\", confidence: 0.9999725>, Classification<prediction: \"not_spam\", confidence: 0.99987686>, Classification<prediction: \"not_spam\", confidence: 0.9997284>, Classification<prediction: \"spam\", confidence: 0.9998809>, Classification<prediction: \"not_spam\", confidence: 0.99956155>, Classification<prediction: \"not_spam\", confidence: 0.99997956>, Classification<prediction: \"not_spam\", confidence: 0.9995212>, Classification<prediction: \"spam\", confidence: 0.999306>, Classification<prediction: \"not_spam\", confidence: 0.9998668>, Classification<prediction: \"not_spam\", confidence: 0.9998206>, Classification<prediction: \"not_spam\", confidence: 0.99999744>, Classification<prediction: \"spam\", confidence: 0.99996096>, Classification<prediction: \"not_spam\", confidence: 0.9987579>, Classification<prediction: \"not_spam\", confidence: 0.9999485>, Classification<prediction: \"not_spam\", confidence: 0.9969971>, Classification<prediction: \"spam\", confidence: 0.9035402>, Classification<prediction: \"not_spam\", confidence: 0.9962325>, Classification<prediction: \"not_spam\", confidence: 0.9983902>, Classification<prediction: \"not_spam\", confidence: 0.9996166>, Classification<prediction: \"spam\", confidence: 0.99991>, Classification<prediction: \"not_spam\", confidence: 0.99999166>, Classification<prediction: \"not_spam\", confidence: 0.9996484>, Classification<prediction: \"spam\", confidence: 0.99950707>, Classification<prediction: \"not_spam\", confidence: 0.9999471>, Classification<prediction: \"not_spam\", confidence: 0.9970393>, Classification<prediction: \"spam\", confidence: 0.9759874>, Classification<prediction: \"spam\", confidence: 0.9584328>, Classification<prediction: \"spam\", confidence: 0.9980616>, Classification<prediction: \"spam\", confidence: 0.9996294>, Classification<prediction: \"not_spam\", confidence: 0.95669>, Classification<prediction: \"not_spam\", confidence: 0.9982213>, Classification<prediction: \"spam\", confidence: 0.75968105>, Classification<prediction: \"spam\", confidence: 0.99749166>, Classification<prediction: \"spam\", confidence: 0.988218>, Classification<prediction: \"spam\", confidence: 0.9999979>, Classification<prediction: \"not_spam\", confidence: 0.9920902>, Classification<prediction: \"spam\", confidence: 0.98431253>, Classification<prediction: \"not_spam\", confidence: 0.9997842>, Classification<prediction: \"spam\", confidence: 0.9998554>, Classification<prediction: \"spam\", confidence: 0.9992532>, Classification<prediction: \"not_spam\", confidence: 0.9996606>, Classification<prediction: \"not_spam\", confidence: 0.99928457>, Classification<prediction: \"not_spam\", confidence: 0.97126484>, Classification<prediction: \"not_spam\", confidence: 0.99980396>, Classification<prediction: \"not_spam\", confidence: 0.9997745>, Classification<prediction: \"not_spam\", confidence: 0.99997604>, Classification<prediction: \"spam\", confidence: 0.9644024>, Classification<prediction: \"spam\", confidence: 0.996605>, Classification<prediction: \"spam\", confidence: 0.91685504>, Classification<prediction: \"not_spam\", confidence: 0.99970126>, Classification<prediction: \"not_spam\", confidence: 0.99979967>, Classification<prediction: \"spam\", confidence: 0.9978985>, Classification<prediction: \"spam\", confidence: 0.6181929>, Classification<prediction: \"spam\", confidence: 0.99996233>, Classification<prediction: \"spam\", confidence: 0.99936503>, Classification<prediction: \"spam\", confidence: 0.99985874>, Classification<prediction: \"not_spam\", confidence: 0.9999846>, Classification<prediction: \"not_spam\", confidence: 0.9969614>, Classification<prediction: \"not_spam\", confidence: 0.9998458>, Classification<prediction: \"not_spam\", confidence: 0.99991775>, Classification<prediction: \"not_spam\", confidence: 0.9970896>, Classification<prediction: \"not_spam\", confidence: 0.99973047>, Classification<prediction: \"spam\", confidence: 0.99994045>, Classification<prediction: \"spam\", confidence: 0.9998443>, Classification<prediction: \"not_spam\", confidence: 0.99306774>, Classification<prediction: \"not_spam\", confidence: 0.99998885>, Classification<prediction: \"spam\", confidence: 0.99994385>, Classification<prediction: \"not_spam\", confidence: 0.98593575>, Classification<prediction: \"not_spam\", confidence: 0.7082211>, Classification<prediction: \"not_spam\", confidence: 0.9999989>, Classification<prediction: \"not_spam\", confidence: 0.9999345>, Classification<prediction: \"spam\", confidence: 0.95494235>, Classification<prediction: \"not_spam\", confidence: 0.97781646>, Classification<prediction: \"not_spam\", confidence: 0.9997294>, Classification<prediction: \"not_spam\", confidence: 0.99991053>, Classification<prediction: \"not_spam\", confidence: 0.9998589>, Classification<prediction: \"not_spam\", confidence: 0.99789846>, Classification<prediction: \"not_spam\", confidence: 0.9999999>, Classification<prediction: \"not_spam\", confidence: 0.8059895>, Classification<prediction: \"spam\", confidence: 0.9999941>, Classification<prediction: \"not_spam\", confidence: 0.9995304>, Classification<prediction: \"not_spam\", confidence: 0.9996334>, Classification<prediction: \"spam\", confidence: 0.6477416>, Classification<prediction: \"not_spam\", confidence: 0.94346386>, Classification<prediction: \"spam\", confidence: 0.9672992>, Classification<prediction: \"not_spam\", confidence: 0.999988>, Classification<prediction: \"not_spam\", confidence: 0.9999666>, Classification<prediction: \"not_spam\", confidence: 0.99702203>, Classification<prediction: \"not_spam\", confidence: 0.9999618>, Classification<prediction: \"not_spam\", confidence: 0.99996823>, Classification<prediction: \"spam\", confidence: 0.9921775>, Classification<prediction: \"not_spam\", confidence: 0.99983597>, Classification<prediction: \"not_spam\", confidence: 0.97116786>, Classification<prediction: \"not_spam\", confidence: 0.99989176>, Classification<prediction: \"not_spam\", confidence: 0.9869687>, Classification<prediction: \"spam\", confidence: 0.9998483>, Classification<prediction: \"not_spam\", confidence: 0.9983579>, Classification<prediction: \"spam\", confidence: 0.99981004>, Classification<prediction: \"not_spam\", confidence: 0.9997259>, Classification<prediction: \"not_spam\", confidence: 0.99999803>, Classification<prediction: \"spam\", confidence: 0.99696755>, Classification<prediction: \"not_spam\", confidence: 0.99387485>, Classification<prediction: \"spam\", confidence: 0.88943416>, Classification<prediction: \"spam\", confidence: 0.9999592>, Classification<prediction: \"not_spam\", confidence: 0.9989616>, Classification<prediction: \"not_spam\", confidence: 0.7834122>, Classification<prediction: \"not_spam\", confidence: 0.99206716>, Classification<prediction: \"spam\", confidence: 0.9188251>, Classification<prediction: \"spam\", confidence: 0.97008437>, Classification<prediction: \"not_spam\", confidence: 0.9947512>, Classification<prediction: \"not_spam\", confidence: 0.7579054>, Classification<prediction: \"spam\", confidence: 0.9978932>, Classification<prediction: \"not_spam\", confidence: 0.99961084>, Classification<prediction: \"spam\", confidence: 0.8570976>, Classification<prediction: \"not_spam\", confidence: 0.9999997>, Classification<prediction: \"not_spam\", confidence: 0.9921437>, Classification<prediction: \"not_spam\", confidence: 0.9999498>, Classification<prediction: \"spam\", confidence: 0.97434783>, Classification<prediction: \"not_spam\", confidence: 0.9999751>, Classification<prediction: \"not_spam\", confidence: 0.8672217>, Classification<prediction: \"spam\", confidence: 0.9875166>, Classification<prediction: \"spam\", confidence: 0.9985403>, Classification<prediction: \"not_spam\", confidence: 0.99823767>, Classification<prediction: \"spam\", confidence: 0.99531364>, Classification<prediction: \"not_spam\", confidence: 0.9999847>, Classification<prediction: \"spam\", confidence: 0.99891335>, Classification<prediction: \"spam\", confidence: 0.9991209>, Classification<prediction: \"spam\", confidence: 0.7210635>, Classification<prediction: \"not_spam\", confidence: 0.9943524>, Classification<prediction: \"not_spam\", confidence: 0.9997632>, Classification<prediction: \"spam\", confidence: 0.9983591>, Classification<prediction: \"not_spam\", confidence: 0.9996981>, Classification<prediction: \"spam\", confidence: 0.7965021>, Classification<prediction: \"not_spam\", confidence: 0.99995667>, Classification<prediction: \"not_spam\", confidence: 0.992614>, Classification<prediction: \"spam\", confidence: 0.99940085>, Classification<prediction: \"spam\", confidence: 0.9999957>, Classification<prediction: \"spam\", confidence: 0.99999833>, Classification<prediction: \"spam\", confidence: 0.9989037>, Classification<prediction: \"not_spam\", confidence: 0.9999974>, Classification<prediction: \"not_spam\", confidence: 0.9800291>, Classification<prediction: \"not_spam\", confidence: 0.9933257>, Classification<prediction: \"not_spam\", confidence: 0.9978273>, Classification<prediction: \"not_spam\", confidence: 0.99996173>, Classification<prediction: \"not_spam\", confidence: 0.9999956>, Classification<prediction: \"not_spam\", confidence: 0.9990047>, Classification<prediction: \"not_spam\", confidence: 0.99990565>, Classification<prediction: \"not_spam\", confidence: 0.9972862>, Classification<prediction: \"not_spam\", confidence: 0.99912024>, Classification<prediction: \"not_spam\", confidence: 0.9922765>, Classification<prediction: \"not_spam\", confidence: 0.9847167>, Classification<prediction: \"spam\", confidence: 0.99853474>, Classification<prediction: \"spam\", confidence: 0.9990055>, Classification<prediction: \"spam\", confidence: 0.99959725>, Classification<prediction: \"spam\", confidence: 0.999877>, Classification<prediction: \"not_spam\", confidence: 0.99906355>, Classification<prediction: \"not_spam\", confidence: 0.99983335>, Classification<prediction: \"not_spam\", confidence: 0.99999595>, Classification<prediction: \"not_spam\", confidence: 0.95840394>, Classification<prediction: \"not_spam\", confidence: 0.99998057>, Classification<prediction: \"spam\", confidence: 0.60868067>, Classification<prediction: \"spam\", confidence: 0.8627321>, Classification<prediction: \"not_spam\", confidence: 0.9999092>, Classification<prediction: \"not_spam\", confidence: 0.9988124>, Classification<prediction: \"spam\", confidence: 0.99990755>, Classification<prediction: \"not_spam\", confidence: 0.9999845>, Classification<prediction: \"not_spam\", confidence: 0.99448043>, Classification<prediction: \"not_spam\", confidence: 0.99995136>, Classification<prediction: \"not_spam\", confidence: 0.99980545>, Classification<prediction: \"not_spam\", confidence: 0.9998787>, Classification<prediction: \"not_spam\", confidence: 0.999953>, Classification<prediction: \"not_spam\", confidence: 0.9998246>, Classification<prediction: \"not_spam\", confidence: 0.9998801>, Classification<prediction: \"spam\", confidence: 0.9999974>, Classification<prediction: \"not_spam\", confidence: 0.9997067>, Classification<prediction: \"not_spam\", confidence: 0.99993426>, Classification<prediction: \"not_spam\", confidence: 0.99986136>, Classification<prediction: \"not_spam\", confidence: 0.9909301>, Classification<prediction: \"spam\", confidence: 0.9947614>, Classification<prediction: \"not_spam\", confidence: 0.99880373>, Classification<prediction: \"not_spam\", confidence: 0.9998948>, Classification<prediction: \"not_spam\", confidence: 0.999254>, Classification<prediction: \"spam\", confidence: 0.9947718>, Classification<prediction: \"not_spam\", confidence: 0.9905421>, Classification<prediction: \"not_spam\", confidence: 0.7833934>, Classification<prediction: \"spam\", confidence: 0.9719451>, Classification<prediction: \"not_spam\", confidence: 0.9998495>, Classification<prediction: \"not_spam\", confidence: 0.99795467>, Classification<prediction: \"not_spam\", confidence: 0.99824125>, Classification<prediction: \"not_spam\", confidence: 0.99930257>, Classification<prediction: \"spam\", confidence: 0.99970645>, Classification<prediction: \"not_spam\", confidence: 0.9999999>, Classification<prediction: \"not_spam\", confidence: 0.9999797>, Classification<prediction: \"spam\", confidence: 0.9499913>, Classification<prediction: \"not_spam\", confidence: 0.9995682>, Classification<prediction: \"not_spam\", confidence: 0.9852179>, Classification<prediction: \"not_spam\", confidence: 0.99883586>, Classification<prediction: \"not_spam\", confidence: 0.9997399>, Classification<prediction: \"not_spam\", confidence: 0.99988794>, Classification<prediction: \"not_spam\", confidence: 0.97647>, Classification<prediction: \"spam\", confidence: 0.9996176>, Classification<prediction: \"not_spam\", confidence: 0.9978276>, Classification<prediction: \"spam\", confidence: 0.99927145>, Classification<prediction: \"not_spam\", confidence: 0.99102795>, Classification<prediction: \"spam\", confidence: 0.8106087>, Classification<prediction: \"not_spam\", confidence: 0.9965098>, Classification<prediction: \"spam\", confidence: 0.9997304>, Classification<prediction: \"not_spam\", confidence: 0.999775>, Classification<prediction: \"spam\", confidence: 0.9999971>, Classification<prediction: \"not_spam\", confidence: 0.9992644>, Classification<prediction: \"not_spam\", confidence: 0.99993426>, Classification<prediction: \"spam\", confidence: 0.99088633>, Classification<prediction: \"not_spam\", confidence: 0.9999477>, Classification<prediction: \"not_spam\", confidence: 0.9988293>, Classification<prediction: \"spam\", confidence: 0.9999634>, Classification<prediction: \"not_spam\", confidence: 0.9999924>, Classification<prediction: \"not_spam\", confidence: 0.99999714>, Classification<prediction: \"spam\", confidence: 0.9946343>, Classification<prediction: \"not_spam\", confidence: 0.9998679>, Classification<prediction: \"spam\", confidence: 0.99532336>, Classification<prediction: \"spam\", confidence: 0.9989091>, Classification<prediction: \"not_spam\", confidence: 0.9999544>, Classification<prediction: \"spam\", confidence: 0.9999076>, Classification<prediction: \"not_spam\", confidence: 0.9999751>, Classification<prediction: \"spam\", confidence: 0.9999611>, Classification<prediction: \"not_spam\", confidence: 0.99990195>, Classification<prediction: \"not_spam\", confidence: 0.9999398>, Classification<prediction: \"not_spam\", confidence: 0.99663424>, Classification<prediction: \"not_spam\", confidence: 0.99973255>, Classification<prediction: \"not_spam\", confidence: 0.99797654>, Classification<prediction: \"not_spam\", confidence: 0.99962884>, Classification<prediction: \"not_spam\", confidence: 0.99990374>, Classification<prediction: \"not_spam\", confidence: 0.99998075>, Classification<prediction: \"not_spam\", confidence: 0.9998851>, Classification<prediction: \"spam\", confidence: 0.9904528>, Classification<prediction: \"spam\", confidence: 0.98664147>, Classification<prediction: \"not_spam\", confidence: 0.99970126>, Classification<prediction: \"not_spam\", confidence: 0.99975926>, Classification<prediction: \"not_spam\", confidence: 0.9987643>, Classification<prediction: \"not_spam\", confidence: 0.9994429>, Classification<prediction: \"not_spam\", confidence: 0.99206376>, Classification<prediction: \"not_spam\", confidence: 0.9999996>, Classification<prediction: \"not_spam\", confidence: 0.9972344>, Classification<prediction: \"not_spam\", confidence: 0.99975044>, Classification<prediction: \"not_spam\", confidence: 0.99992347>, Classification<prediction: \"not_spam\", confidence: 0.98869425>, Classification<prediction: \"spam\", confidence: 0.80066484>, Classification<prediction: \"not_spam\", confidence: 0.99999887>, Classification<prediction: \"not_spam\", confidence: 0.9999794>, Classification<prediction: \"not_spam\", confidence: 0.99642986>, Classification<prediction: \"spam\", confidence: 0.9973461>, Classification<prediction: \"not_spam\", confidence: 0.9997586>, Classification<prediction: \"not_spam\", confidence: 0.9999675>, Classification<prediction: \"spam\", confidence: 0.9975345>, Classification<prediction: \"spam\", confidence: 0.992949>, Classification<prediction: \"not_spam\", confidence: 0.9995827>, Classification<prediction: \"not_spam\", confidence: 0.99342126>, Classification<prediction: \"spam\", confidence: 0.9997415>, Classification<prediction: \"not_spam\", confidence: 0.9994108>, Classification<prediction: \"not_spam\", confidence: 0.9999895>, Classification<prediction: \"spam\", confidence: 0.9998809>, Classification<prediction: \"not_spam\", confidence: 0.9999395>, Classification<prediction: \"spam\", confidence: 0.999847>, Classification<prediction: \"not_spam\", confidence: 0.9999958>, Classification<prediction: \"spam\", confidence: 0.9692513>, Classification<prediction: \"spam\", confidence: 0.9995853>, Classification<prediction: \"spam\", confidence: 0.9984143>, Classification<prediction: \"spam\", confidence: 0.99260294>, Classification<prediction: \"not_spam\", confidence: 0.99994963>, Classification<prediction: \"not_spam\", confidence: 0.9999514>, Classification<prediction: \"spam\", confidence: 0.99999684>, Classification<prediction: \"spam\", confidence: 0.9972517>, Classification<prediction: \"spam\", confidence: 0.99907637>, Classification<prediction: \"spam\", confidence: 0.9990055>, Classification<prediction: \"spam\", confidence: 0.99514014>, Classification<prediction: \"not_spam\", confidence: 0.9675162>, Classification<prediction: \"not_spam\", confidence: 0.9944345>, Classification<prediction: \"not_spam\", confidence: 0.9857882>, Classification<prediction: \"not_spam\", confidence: 0.9996474>, Classification<prediction: \"not_spam\", confidence: 0.99967104>, Classification<prediction: \"not_spam\", confidence: 0.9998805>, Classification<prediction: \"not_spam\", confidence: 0.9953418>, Classification<prediction: \"not_spam\", confidence: 0.99964404>, Classification<prediction: \"spam\", confidence: 0.99981683>, Classification<prediction: \"not_spam\", confidence: 0.99943054>, Classification<prediction: \"not_spam\", confidence: 0.99970937>, Classification<prediction: \"not_spam\", confidence: 0.99797136>, Classification<prediction: \"spam\", confidence: 0.9999971>, Classification<prediction: \"spam\", confidence: 0.99459916>, Classification<prediction: \"spam\", confidence: 0.9022959>, Classification<prediction: \"not_spam\", confidence: 0.9999426>, Classification<prediction: \"not_spam\", confidence: 0.9999996>, Classification<prediction: \"not_spam\", confidence: 0.999991>, Classification<prediction: \"not_spam\", confidence: 0.99946797>, Classification<prediction: \"not_spam\", confidence: 0.9992653>, Classification<prediction: \"not_spam\", confidence: 0.9895034>, Classification<prediction: \"not_spam\", confidence: 0.99984527>, Classification<prediction: \"not_spam\", confidence: 0.9967033>, Classification<prediction: \"spam\", confidence: 0.99940103>, Classification<prediction: \"spam\", confidence: 0.9998595>, Classification<prediction: \"not_spam\", confidence: 0.99811196>, Classification<prediction: \"not_spam\", confidence: 0.9999356>, Classification<prediction: \"not_spam\", confidence: 0.9998883>, Classification<prediction: \"not_spam\", confidence: 0.9993912>, Classification<prediction: \"not_spam\", confidence: 0.9829915>, Classification<prediction: \"spam\", confidence: 0.9995726>, Classification<prediction: \"not_spam\", confidence: 0.9998549>, Classification<prediction: \"spam\", confidence: 0.81864667>, Classification<prediction: \"not_spam\", confidence: 0.9999965>, Classification<prediction: \"spam\", confidence: 0.98166955>, Classification<prediction: \"not_spam\", confidence: 0.9998876>, Classification<prediction: \"not_spam\", confidence: 0.9996872>, Classification<prediction: \"not_spam\", confidence: 0.9994972>, Classification<prediction: \"not_spam\", confidence: 0.9999271>, Classification<prediction: \"not_spam\", confidence: 0.9807905>, Classification<prediction: \"spam\", confidence: 0.99662024>, Classification<prediction: \"not_spam\", confidence: 0.992405>, Classification<prediction: \"not_spam\", confidence: 0.9999316>, Classification<prediction: \"not_spam\", confidence: 0.998008>, Classification<prediction: \"spam\", confidence: 0.9926157>, Classification<prediction: \"not_spam\", confidence: 0.9997747>, Classification<prediction: \"spam\", confidence: 0.9998873>, Classification<prediction: \"not_spam\", confidence: 0.99899614>, Classification<prediction: \"spam\", confidence: 0.99994874>, Classification<prediction: \"spam\", confidence: 0.99988925>, Classification<prediction: \"not_spam\", confidence: 0.9637349>, Classification<prediction: \"spam\", confidence: 0.98821306>, Classification<prediction: \"not_spam\", confidence: 0.9999517>, Classification<prediction: \"spam\", confidence: 0.99979067>, Classification<prediction: \"not_spam\", confidence: 0.99991775>, Classification<prediction: \"not_spam\", confidence: 0.99897075>, Classification<prediction: \"not_spam\", confidence: 0.9999994>, Classification<prediction: \"spam\", confidence: 0.99904865>, Classification<prediction: \"not_spam\", confidence: 0.99897027>, Classification<prediction: \"spam\", confidence: 0.9970984>, Classification<prediction: \"not_spam\", confidence: 0.99982643>, Classification<prediction: \"not_spam\", confidence: 0.94183385>, Classification<prediction: \"spam\", confidence: 0.9998838>, Classification<prediction: \"not_spam\", confidence: 0.9999813>, Classification<prediction: \"not_spam\", confidence: 0.99868876>, Classification<prediction: \"not_spam\", confidence: 0.99884737>, Classification<prediction: \"not_spam\", confidence: 0.9999835>, Classification<prediction: \"not_spam\", confidence: 0.9999998>, Classification<prediction: \"spam\", confidence: 0.9687886>, Classification<prediction: \"spam\", confidence: 0.9960321>, Classification<prediction: \"not_spam\", confidence: 0.9999982>, Classification<prediction: \"not_spam\", confidence: 0.99997824>, Classification<prediction: \"not_spam\", confidence: 0.9997268>, Classification<prediction: \"spam\", confidence: 0.99986225>, Classification<prediction: \"spam\", confidence: 0.9998554>, Classification<prediction: \"not_spam\", confidence: 0.99961114>, Classification<prediction: \"spam\", confidence: 0.9964563>, Classification<prediction: \"not_spam\", confidence: 0.99989545>, Classification<prediction: \"not_spam\", confidence: 0.9996912>, Classification<prediction: \"not_spam\", confidence: 0.9986081>, Classification<prediction: \"not_spam\", confidence: 0.99998266>, Classification<prediction: \"spam\", confidence: 0.9980248>, Classification<prediction: \"not_spam\", confidence: 0.9999648>, Classification<prediction: \"spam\", confidence: 0.99555147>, Classification<prediction: \"spam\", confidence: 0.9411252>, Classification<prediction: \"spam\", confidence: 0.9978362>, Classification<prediction: \"spam\", confidence: 0.9990995>, Classification<prediction: \"not_spam\", confidence: 0.9984623>, Classification<prediction: \"spam\", confidence: 0.9935701>, Classification<prediction: \"not_spam\", confidence: 0.99931794>, Classification<prediction: \"not_spam\", confidence: 0.9999295>, Classification<prediction: \"not_spam\", confidence: 0.99951535>, Classification<prediction: \"not_spam\", confidence: 0.99293846>, Classification<prediction: \"not_spam\", confidence: 0.99993896>, Classification<prediction: \"not_spam\", confidence: 0.9999401>, Classification<prediction: \"spam\", confidence: 0.99928665>, Classification<prediction: \"spam\", confidence: 0.9319471>, Classification<prediction: \"not_spam\", confidence: 0.9970596>, Classification<prediction: \"spam\", confidence: 0.99933493>, Classification<prediction: \"not_spam\", confidence: 0.9996173>, Classification<prediction: \"not_spam\", confidence: 0.99967724>, Classification<prediction: \"not_spam\", confidence: 0.99999946>, Classification<prediction: \"not_spam\", confidence: 0.9996626>, Classification<prediction: \"not_spam\", confidence: 0.99944174>, Classification<prediction: \"not_spam\", confidence: 0.9999574>, Classification<prediction: \"not_spam\", confidence: 0.9999986>, Classification<prediction: \"not_spam\", confidence: 0.9999949>, Classification<prediction: \"not_spam\", confidence: 0.998928>, Classification<prediction: \"not_spam\", confidence: 0.9308636>, Classification<prediction: \"not_spam\", confidence: 0.9995262>, Classification<prediction: \"not_spam\", confidence: 0.9612491>, Classification<prediction: \"not_spam\", confidence: 0.99930626>, Classification<prediction: \"not_spam\", confidence: 0.99875045>, Classification<prediction: \"not_spam\", confidence: 0.9999643>, Classification<prediction: \"spam\", confidence: 0.99781275>, Classification<prediction: \"not_spam\", confidence: 0.99914086>, Classification<prediction: \"not_spam\", confidence: 0.8414146>, Classification<prediction: \"not_spam\", confidence: 0.99999726>, Classification<prediction: \"not_spam\", confidence: 0.80681854>, Classification<prediction: \"not_spam\", confidence: 0.8821077>, Classification<prediction: \"spam\", confidence: 0.99998105>, Classification<prediction: \"not_spam\", confidence: 0.9999461>, Classification<prediction: \"not_spam\", confidence: 0.9999051>, Classification<prediction: \"spam\", confidence: 0.9811995>, Classification<prediction: \"not_spam\", confidence: 0.99931>, Classification<prediction: \"not_spam\", confidence: 0.99985754>, Classification<prediction: \"spam\", confidence: 0.64625514>, Classification<prediction: \"not_spam\", confidence: 0.9917264>, Classification<prediction: \"spam\", confidence: 0.99977183>, Classification<prediction: \"not_spam\", confidence: 0.99995434>, Classification<prediction: \"not_spam\", confidence: 0.99999976>, Classification<prediction: \"not_spam\", confidence: 0.9999913>, Classification<prediction: \"not_spam\", confidence: 0.9999705>, Classification<prediction: \"not_spam\", confidence: 0.999955>, Classification<prediction: \"not_spam\", confidence: 0.9999753>, Classification<prediction: \"spam\", confidence: 0.99106413>, Classification<prediction: \"not_spam\", confidence: 0.999947>, Classification<prediction: \"spam\", confidence: 0.64438486>, Classification<prediction: \"not_spam\", confidence: 0.9962325>, Classification<prediction: \"spam\", confidence: 0.99968237>, Classification<prediction: \"not_spam\", confidence: 0.9906099>, Classification<prediction: \"spam\", confidence: 0.9989171>, Classification<prediction: \"not_spam\", confidence: 0.8349769>, Classification<prediction: \"not_spam\", confidence: 0.9999749>, Classification<prediction: \"not_spam\", confidence: 0.99999565>, Classification<prediction: \"not_spam\", confidence: 0.9498115>, Classification<prediction: \"not_spam\", confidence: 0.9905326>, Classification<prediction: \"not_spam\", confidence: 0.99999815>, Classification<prediction: \"not_spam\", confidence: 0.9999864>, Classification<prediction: \"not_spam\", confidence: 0.99979997>, Classification<prediction: \"not_spam\", confidence: 0.97272635>, Classification<prediction: \"not_spam\", confidence: 0.9998322>, Classification<prediction: \"not_spam\", confidence: 0.99978405>, Classification<prediction: \"spam\", confidence: 0.81384414>, Classification<prediction: \"not_spam\", confidence: 0.99993175>, Classification<prediction: \"not_spam\", confidence: 0.9999328>, Classification<prediction: \"spam\", confidence: 0.9999982>, Classification<prediction: \"not_spam\", confidence: 0.998547>, Classification<prediction: \"not_spam\", confidence: 0.9990864>, Classification<prediction: \"not_spam\", confidence: 0.9999788>, Classification<prediction: \"spam\", confidence: 0.999137>, Classification<prediction: \"not_spam\", confidence: 0.9999957>, Classification<prediction: \"not_spam\", confidence: 0.99894565>, Classification<prediction: \"not_spam\", confidence: 0.99997574>, Classification<prediction: \"spam\", confidence: 0.9961841>, Classification<prediction: \"not_spam\", confidence: 0.9999798>, Classification<prediction: \"spam\", confidence: 0.999847>, Classification<prediction: \"not_spam\", confidence: 0.9999954>, Classification<prediction: \"not_spam\", confidence: 0.99996793>, Classification<prediction: \"not_spam\", confidence: 0.93994653>, Classification<prediction: \"not_spam\", confidence: 0.999955>, Classification<prediction: \"not_spam\", confidence: 0.9999824>, Classification<prediction: \"spam\", confidence: 0.9557834>, Classification<prediction: \"spam\", confidence: 0.99668604>, Classification<prediction: \"not_spam\", confidence: 0.99839044>, Classification<prediction: \"not_spam\", confidence: 0.99962765>, Classification<prediction: \"not_spam\", confidence: 0.99887365>, Classification<prediction: \"not_spam\", confidence: 0.997687>, Classification<prediction: \"spam\", confidence: 0.98921514>, Classification<prediction: \"spam\", confidence: 0.9997288>, Classification<prediction: \"spam\", confidence: 0.9994095>, Classification<prediction: \"spam\", confidence: 0.82679164>, Classification<prediction: \"not_spam\", confidence: 0.99997807>, Classification<prediction: \"not_spam\", confidence: 0.9377167>, Classification<prediction: \"spam\", confidence: 0.99555147>, Classification<prediction: \"spam\", confidence: 0.57643396>, Classification<prediction: \"not_spam\", confidence: 0.99994737>, Classification<prediction: \"spam\", confidence: 0.99967563>, Classification<prediction: \"not_spam\", confidence: 0.9998044>, Classification<prediction: \"not_spam\", confidence: 0.9999155>, Classification<prediction: \"spam\", confidence: 0.99971074>, Classification<prediction: \"not_spam\", confidence: 0.9998203>, Classification<prediction: \"not_spam\", confidence: 0.93761486>, Classification<prediction: \"spam\", confidence: 0.93511057>, Classification<prediction: \"not_spam\", confidence: 0.9991928>, Classification<prediction: \"not_spam\", confidence: 0.8687404>, Classification<prediction: \"not_spam\", confidence: 0.9910973>, Classification<prediction: \"spam\", confidence: 0.9895663>, Classification<prediction: \"not_spam\", confidence: 0.998838>, Classification<prediction: \"not_spam\", confidence: 0.99967027>, Classification<prediction: \"spam\", confidence: 0.9089959>, Classification<prediction: \"spam\", confidence: 0.9945281>, Classification<prediction: \"spam\", confidence: 0.9999232>, Classification<prediction: \"not_spam\", confidence: 0.9999889>, Classification<prediction: \"not_spam\", confidence: 0.9804502>, Classification<prediction: \"not_spam\", confidence: 0.9997291>, Classification<prediction: \"spam\", confidence: 0.99996865>, Classification<prediction: \"spam\", confidence: 0.99977356>, Classification<prediction: \"not_spam\", confidence: 0.999969>, Classification<prediction: \"spam\", confidence: 0.9981531>, Classification<prediction: \"spam\", confidence: 0.9438354>, Classification<prediction: \"spam\", confidence: 0.99996036>, Classification<prediction: \"spam\", confidence: 0.93088293>, Classification<prediction: \"not_spam\", confidence: 0.99962175>, Classification<prediction: \"not_spam\", confidence: 0.9990027>, Classification<prediction: \"spam\", confidence: 0.99997514>, Classification<prediction: \"not_spam\", confidence: 0.9999145>, Classification<prediction: \"not_spam\", confidence: 0.99997693>, Classification<prediction: \"not_spam\", confidence: 0.9999808>, Classification<prediction: \"spam\", confidence: 0.9999359>, Classification<prediction: \"not_spam\", confidence: 0.9991861>, Classification<prediction: \"spam\", confidence: 0.99728745>, Classification<prediction: \"not_spam\", confidence: 0.95314497>, Classification<prediction: \"not_spam\", confidence: 0.9918627>, Classification<prediction: \"spam\", confidence: 0.9951307>, Classification<prediction: \"spam\", confidence: 0.9981531>, Classification<prediction: \"not_spam\", confidence: 0.99996436>, Classification<prediction: \"not_spam\", confidence: 0.9998169>, Classification<prediction: \"not_spam\", confidence: 0.9996944>, Classification<prediction: \"not_spam\", confidence: 0.99976015>, Classification<prediction: \"not_spam\", confidence: 0.9999913>, Classification<prediction: \"not_spam\", confidence: 0.99999243>, Classification<prediction: \"not_spam\", confidence: 0.9934339>, Classification<prediction: \"spam\", confidence: 0.999877>, Classification<prediction: \"not_spam\", confidence: 0.9999966>, Classification<prediction: \"spam\", confidence: 0.99972755>, Classification<prediction: \"spam\", confidence: 0.73527706>, Classification<prediction: \"not_spam\", confidence: 0.9923114>, Classification<prediction: \"spam\", confidence: 0.9989171>, Classification<prediction: \"not_spam\", confidence: 0.99996865>, Classification<prediction: \"not_spam\", confidence: 0.9998779>, Classification<prediction: \"not_spam\", confidence: 0.9860935>, Classification<prediction: \"not_spam\", confidence: 0.99950916>, Classification<prediction: \"not_spam\", confidence: 0.99827576>, Classification<prediction: \"not_spam\", confidence: 0.99914664>, Classification<prediction: \"not_spam\", confidence: 0.9999024>, Classification<prediction: \"not_spam\", confidence: 0.99988145>, Classification<prediction: \"spam\", confidence: 0.9573488>, Classification<prediction: \"not_spam\", confidence: 0.9999846>, Classification<prediction: \"spam\", confidence: 0.9999013>, Classification<prediction: \"not_spam\", confidence: 0.994196>, Classification<prediction: \"not_spam\", confidence: 0.9999696>, Classification<prediction: \"spam\", confidence: 0.9999878>, Classification<prediction: \"spam\", confidence: 0.9676838>, Classification<prediction: \"spam\", confidence: 0.9035402>, Classification<prediction: \"spam\", confidence: 0.9968399>, Classification<prediction: \"not_spam\", confidence: 0.99985003>, Classification<prediction: \"not_spam\", confidence: 0.99974036>, Classification<prediction: \"not_spam\", confidence: 0.999673>, Classification<prediction: \"not_spam\", confidence: 0.9980222>, Classification<prediction: \"not_spam\", confidence: 0.9994464>, Classification<prediction: \"not_spam\", confidence: 0.9898992>, Classification<prediction: \"not_spam\", confidence: 0.99972016>, Classification<prediction: \"not_spam\", confidence: 0.93266696>, Classification<prediction: \"spam\", confidence: 0.9991785>, Classification<prediction: \"not_spam\", confidence: 0.99999183>, Classification<prediction: \"not_spam\", confidence: 0.9991676>, Classification<prediction: \"not_spam\", confidence: 0.99930125>, Classification<prediction: \"not_spam\", confidence: 0.99998903>, Classification<prediction: \"not_spam\", confidence: 0.99923295>, Classification<prediction: \"spam\", confidence: 0.9999152>, Classification<prediction: \"not_spam\", confidence: 0.997531>, Classification<prediction: \"not_spam\", confidence: 0.9999483>, Classification<prediction: \"not_spam\", confidence: 0.9989683>, Classification<prediction: \"spam\", confidence: 0.9999524>, Classification<prediction: \"not_spam\", confidence: 0.9999924>, Classification<prediction: \"not_spam\", confidence: 0.9998987>, Classification<prediction: \"not_spam\", confidence: 0.9993736>, Classification<prediction: \"not_spam\", confidence: 0.9992042>, Classification<prediction: \"not_spam\", confidence: 0.9999995>, Classification<prediction: \"spam\", confidence: 0.9998169>, Classification<prediction: \"not_spam\", confidence: 0.9988688>, Classification<prediction: \"not_spam\", confidence: 0.9999574>, Classification<prediction: \"not_spam\", confidence: 0.9995964>, Classification<prediction: \"not_spam\", confidence: 0.9998715>, Classification<prediction: \"not_spam\", confidence: 0.97908133>, Classification<prediction: \"spam\", confidence: 0.99994147>, Classification<prediction: \"not_spam\", confidence: 0.99952024>, Classification<prediction: \"not_spam\", confidence: 0.999966>, Classification<prediction: \"spam\", confidence: 0.9923444>, Classification<prediction: \"not_spam\", confidence: 0.9983447>, Classification<prediction: \"spam\", confidence: 0.9999935>, Classification<prediction: \"spam\", confidence: 0.9988307>, Classification<prediction: \"spam\", confidence: 0.99260294>, Classification<prediction: \"not_spam\", confidence: 0.9972153>, Classification<prediction: \"not_spam\", confidence: 0.9999845>, Classification<prediction: \"spam\", confidence: 0.7990938>, Classification<prediction: \"not_spam\", confidence: 0.998555>, Classification<prediction: \"spam\", confidence: 0.9683543>, Classification<prediction: \"spam\", confidence: 0.99355006>, Classification<prediction: \"spam\", confidence: 0.99970853>, Classification<prediction: \"spam\", confidence: 0.99491626>, Classification<prediction: \"not_spam\", confidence: 0.9999921>, Classification<prediction: \"not_spam\", confidence: 0.99964833>, Classification<prediction: \"not_spam\", confidence: 0.9999964>, Classification<prediction: \"spam\", confidence: 0.9621847>, Classification<prediction: \"spam\", confidence: 0.99998397>, Classification<prediction: \"not_spam\", confidence: 0.9999032>, Classification<prediction: \"not_spam\", confidence: 0.9998371>, Classification<prediction: \"spam\", confidence: 0.99492276>, Classification<prediction: \"spam\", confidence: 0.9757436>, Classification<prediction: \"spam\", confidence: 0.9991205>, Classification<prediction: \"not_spam\", confidence: 0.99996734>, Classification<prediction: \"not_spam\", confidence: 0.9998944>, Classification<prediction: \"not_spam\", confidence: 0.9997404>, Classification<prediction: \"not_spam\", confidence: 0.9981425>, Classification<prediction: \"not_spam\", confidence: 0.99997026>, Classification<prediction: \"spam\", confidence: 0.99672014>, Classification<prediction: \"not_spam\", confidence: 0.9999959>, Classification<prediction: \"not_spam\", confidence: 0.99922055>, Classification<prediction: \"spam\", confidence: 0.9971142>, Classification<prediction: \"spam\", confidence: 0.9984535>, Classification<prediction: \"not_spam\", confidence: 0.99999505>, Classification<prediction: \"spam\", confidence: 0.859787>, Classification<prediction: \"not_spam\", confidence: 0.9977804>, Classification<prediction: \"not_spam\", confidence: 0.99967223>, Classification<prediction: \"not_spam\", confidence: 0.9984349>, Classification<prediction: \"not_spam\", confidence: 0.9968667>, Classification<prediction: \"not_spam\", confidence: 0.9998804>, Classification<prediction: \"not_spam\", confidence: 0.999975>, Classification<prediction: \"not_spam\", confidence: 0.5342716>, Classification<prediction: \"not_spam\", confidence: 0.9998483>, Classification<prediction: \"spam\", confidence: 0.644181>, Classification<prediction: \"not_spam\", confidence: 0.999953>, Classification<prediction: \"not_spam\", confidence: 0.9952344>, Classification<prediction: \"not_spam\", confidence: 0.99577373>, Classification<prediction: \"not_spam\", confidence: 0.99976766>, Classification<prediction: \"spam\", confidence: 0.5316735>, Classification<prediction: \"not_spam\", confidence: 0.9997659>, Classification<prediction: \"spam\", confidence: 0.99998295>, Classification<prediction: \"not_spam\", confidence: 0.99983305>, Classification<prediction: \"spam\", confidence: 0.99829274>, Classification<prediction: \"spam\", confidence: 0.9968431>, Classification<prediction: \"spam\", confidence: 0.99972236>, Classification<prediction: \"not_spam\", confidence: 0.9998569>, Classification<prediction: \"spam\", confidence: 0.9736177>, Classification<prediction: \"not_spam\", confidence: 0.9999621>, Classification<prediction: \"spam\", confidence: 0.9997003>, Classification<prediction: \"not_spam\", confidence: 0.99995327>, Classification<prediction: \"not_spam\", confidence: 0.98402077>, Classification<prediction: \"not_spam\", confidence: 0.9999837>, Classification<prediction: \"not_spam\", confidence: 0.999944>, Classification<prediction: \"not_spam\", confidence: 0.9977741>, Classification<prediction: \"not_spam\", confidence: 0.9981949>, Classification<prediction: \"not_spam\", confidence: 0.99934554>, Classification<prediction: \"not_spam\", confidence: 0.9934488>, Classification<prediction: \"spam\", confidence: 0.9870877>, Classification<prediction: \"not_spam\", confidence: 0.998977>, Classification<prediction: \"not_spam\", confidence: 0.9995964>, Classification<prediction: \"not_spam\", confidence: 0.9999402>, Classification<prediction: \"not_spam\", confidence: 0.99981403>, Classification<prediction: \"spam\", confidence: 0.99978375>, Classification<prediction: \"not_spam\", confidence: 0.82606554>, Classification<prediction: \"not_spam\", confidence: 0.9694493>, Classification<prediction: \"not_spam\", confidence: 0.999721>, Classification<prediction: \"not_spam\", confidence: 0.9999953>, Classification<prediction: \"not_spam\", confidence: 0.99994785>, Classification<prediction: \"not_spam\", confidence: 0.97293425>, Classification<prediction: \"not_spam\", confidence: 0.999986>, Classification<prediction: \"spam\", confidence: 0.726761>, Classification<prediction: \"spam\", confidence: 0.99193776>, Classification<prediction: \"not_spam\", confidence: 0.9832285>, Classification<prediction: \"not_spam\", confidence: 0.9999974>, Classification<prediction: \"spam\", confidence: 0.99987805>, Classification<prediction: \"not_spam\", confidence: 0.9997716>, Classification<prediction: \"not_spam\", confidence: 0.999628>, Classification<prediction: \"not_spam\", confidence: 0.9978564>, Classification<prediction: \"spam\", confidence: 0.9998776>, Classification<prediction: \"not_spam\", confidence: 0.9999433>, Classification<prediction: \"spam\", confidence: 0.99128115>, Classification<prediction: \"not_spam\", confidence: 0.9969698>, Classification<prediction: \"spam\", confidence: 0.9835071>, Classification<prediction: \"not_spam\", confidence: 0.99961334>, Classification<prediction: \"spam\", confidence: 0.9413917>, Classification<prediction: \"not_spam\", confidence: 0.9999907>, Classification<prediction: \"not_spam\", confidence: 0.9983019>, Classification<prediction: \"spam\", confidence: 0.999877>, Classification<prediction: \"not_spam\", confidence: 0.999764>, Classification<prediction: \"not_spam\", confidence: 0.9990816>, Classification<prediction: \"not_spam\", confidence: 0.9995681>, Classification<prediction: \"not_spam\", confidence: 0.9999299>, Classification<prediction: \"not_spam\", confidence: 0.7935084>, Classification<prediction: \"spam\", confidence: 0.99941605>, Classification<prediction: \"not_spam\", confidence: 0.999955>, Classification<prediction: \"not_spam\", confidence: 0.9999876>, Classification<prediction: \"not_spam\", confidence: 0.9995769>, Classification<prediction: \"not_spam\", confidence: 0.9999914>, Classification<prediction: \"not_spam\", confidence: 0.99999887>, Classification<prediction: \"not_spam\", confidence: 0.9999807>, Classification<prediction: \"spam\", confidence: 0.71406454>, Classification<prediction: \"not_spam\", confidence: 0.99969846>, Classification<prediction: \"not_spam\", confidence: 0.99990255>, Classification<prediction: \"not_spam\", confidence: 0.9999589>, Classification<prediction: \"not_spam\", confidence: 0.99906677>, Classification<prediction: \"not_spam\", confidence: 0.99995786>, Classification<prediction: \"not_spam\", confidence: 0.9996631>, Classification<prediction: \"not_spam\", confidence: 0.99960494>, Classification<prediction: \"not_spam\", confidence: 0.9990037>, Classification<prediction: \"not_spam\", confidence: 0.9975496>, Classification<prediction: \"spam\", confidence: 0.99998987>, Classification<prediction: \"spam\", confidence: 0.9946049>, Classification<prediction: \"not_spam\", confidence: 0.9995225>, Classification<prediction: \"spam\", confidence: 0.9701156>, Classification<prediction: \"not_spam\", confidence: 0.9999745>, Classification<prediction: \"spam\", confidence: 0.98924774>, Classification<prediction: \"spam\", confidence: 0.9960321>, Classification<prediction: \"not_spam\", confidence: 0.9539843>, Classification<prediction: \"not_spam\", confidence: 0.99998605>, Classification<prediction: \"spam\", confidence: 0.99954545>, Classification<prediction: \"not_spam\", confidence: 0.9994998>, Classification<prediction: \"spam\", confidence: 0.9077947>, Classification<prediction: \"spam\", confidence: 0.9999649>, Classification<prediction: \"not_spam\", confidence: 0.99682903>, Classification<prediction: \"spam\", confidence: 0.9998926>, Classification<prediction: \"not_spam\", confidence: 0.9986045>, Classification<prediction: \"not_spam\", confidence: 0.99785566>, Classification<prediction: \"spam\", confidence: 0.99992347>, Classification<prediction: \"not_spam\", confidence: 0.9999806>, Classification<prediction: \"not_spam\", confidence: 0.99998945>, Classification<prediction: \"spam\", confidence: 0.87418056>, Classification<prediction: \"spam\", confidence: 0.9865141>, Classification<prediction: \"not_spam\", confidence: 0.99274576>, Classification<prediction: \"not_spam\", confidence: 0.9999934>, Classification<prediction: \"not_spam\", confidence: 0.9998806>, Classification<prediction: \"not_spam\", confidence: 0.9932329>, Classification<prediction: \"spam\", confidence: 0.96904546>, Classification<prediction: \"not_spam\", confidence: 0.9999484>, Classification<prediction: \"not_spam\", confidence: 0.999936>, Classification<prediction: \"not_spam\", confidence: 0.9999965>, Classification<prediction: \"not_spam\", confidence: 0.9999519>, Classification<prediction: \"not_spam\", confidence: 0.9498115>, Classification<prediction: \"spam\", confidence: 0.9995907>, Classification<prediction: \"spam\", confidence: 0.8794903>, Classification<prediction: \"not_spam\", confidence: 0.808071>, Classification<prediction: \"not_spam\", confidence: 0.99963754>, Classification<prediction: \"not_spam\", confidence: 0.99985665>, Classification<prediction: \"not_spam\", confidence: 0.9998096>, Classification<prediction: \"spam\", confidence: 0.9692155>, Classification<prediction: \"not_spam\", confidence: 0.82566166>, Classification<prediction: \"spam\", confidence: 0.6090092>, Classification<prediction: \"spam\", confidence: 0.9999767>, Classification<prediction: \"not_spam\", confidence: 0.9998741>, Classification<prediction: \"not_spam\", confidence: 0.99992925>, Classification<prediction: \"not_spam\", confidence: 0.99999976>, Classification<prediction: \"spam\", confidence: 0.9317483>, Classification<prediction: \"spam\", confidence: 0.581853>, Classification<prediction: \"not_spam\", confidence: 0.9992332>, Classification<prediction: \"spam\", confidence: 0.99999595>, Classification<prediction: \"not_spam\", confidence: 0.99958444>, Classification<prediction: \"not_spam\", confidence: 0.99608034>, Classification<prediction: \"spam\", confidence: 0.9998956>, Classification<prediction: \"not_spam\", confidence: 0.9999836>, Classification<prediction: \"not_spam\", confidence: 0.96296096>, Classification<prediction: \"not_spam\", confidence: 0.9992384>, Classification<prediction: \"spam\", confidence: 0.97593033>, Classification<prediction: \"not_spam\", confidence: 0.85367215>, Classification<prediction: \"spam\", confidence: 0.9999982>, Classification<prediction: \"spam\", confidence: 0.99965507>, Classification<prediction: \"not_spam\", confidence: 0.999805>, Classification<prediction: \"not_spam\", confidence: 0.99998903>, Classification<prediction: \"not_spam\", confidence: 0.9996978>, Classification<prediction: \"not_spam\", confidence: 0.9999403>, Classification<prediction: \"not_spam\", confidence: 0.9997677>, Classification<prediction: \"not_spam\", confidence: 0.99999917>, Classification<prediction: \"not_spam\", confidence: 0.94869363>, Classification<prediction: \"spam\", confidence: 0.68123853>, Classification<prediction: \"not_spam\", confidence: 0.89336985>, Classification<prediction: \"not_spam\", confidence: 0.9990509>, Classification<prediction: \"not_spam\", confidence: 0.9462616>, Classification<prediction: \"spam\", confidence: 0.9585395>, Classification<prediction: \"not_spam\", confidence: 0.99997956>, Classification<prediction: \"spam\", confidence: 0.99932814>, Classification<prediction: \"not_spam\", confidence: 0.99991804>, Classification<prediction: \"not_spam\", confidence: 0.9920448>, Classification<prediction: \"spam\", confidence: 0.9996146>, Classification<prediction: \"spam\", confidence: 0.9991785>, Classification<prediction: \"not_spam\", confidence: 0.9994119>, Classification<prediction: \"not_spam\", confidence: 0.99755996>, Classification<prediction: \"not_spam\", confidence: 0.99999964>, Classification<prediction: \"not_spam\", confidence: 0.9885205>, Classification<prediction: \"not_spam\", confidence: 0.999294>, Classification<prediction: \"not_spam\", confidence: 0.99884486>, Classification<prediction: \"not_spam\", confidence: 0.99949855>, Classification<prediction: \"not_spam\", confidence: 0.98871875>, Classification<prediction: \"not_spam\", confidence: 0.9997272>, Classification<prediction: \"not_spam\", confidence: 0.99995875>, Classification<prediction: \"not_spam\", confidence: 0.99772733>, Classification<prediction: \"not_spam\", confidence: 0.99999714>, Classification<prediction: \"not_spam\", confidence: 0.9999119>, Classification<prediction: \"not_spam\", confidence: 0.9895377>, Classification<prediction: \"spam\", confidence: 0.99973595>, Classification<prediction: \"spam\", confidence: 0.99966204>, Classification<prediction: \"not_spam\", confidence: 0.999915>, Classification<prediction: \"spam\", confidence: 0.9999433>, Classification<prediction: \"not_spam\", confidence: 0.9538518>, Classification<prediction: \"not_spam\", confidence: 0.99951243>, Classification<prediction: \"spam\", confidence: 0.9995047>, Classification<prediction: \"not_spam\", confidence: 0.94183385>, Classification<prediction: \"not_spam\", confidence: 0.9999716>, Classification<prediction: \"spam\", confidence: 0.9998809>, Classification<prediction: \"not_spam\", confidence: 0.9983005>, Classification<prediction: \"spam\", confidence: 0.9921437>, Classification<prediction: \"spam\", confidence: 0.9991525>, Classification<prediction: \"not_spam\", confidence: 0.9995886>, Classification<prediction: \"spam\", confidence: 0.99998504>, Classification<prediction: \"not_spam\", confidence: 0.99126375>, Classification<prediction: \"spam\", confidence: 0.99969494>, Classification<prediction: \"not_spam\", confidence: 0.99992716>, Classification<prediction: \"not_spam\", confidence: 0.9908492>, Classification<prediction: \"not_spam\", confidence: 0.9939094>, Classification<prediction: \"not_spam\", confidence: 0.9999705>, Classification<prediction: \"spam\", confidence: 0.99988925>, Classification<prediction: \"not_spam\", confidence: 0.999687>, Classification<prediction: \"not_spam\", confidence: 0.99397856>, Classification<prediction: \"spam\", confidence: 0.9919151>, Classification<prediction: \"not_spam\", confidence: 0.9998668>, Classification<prediction: \"spam\", confidence: 0.9998696>, Classification<prediction: \"not_spam\", confidence: 0.99990594>, Classification<prediction: \"spam\", confidence: 0.99978375>, Classification<prediction: \"not_spam\", confidence: 0.9998568>, Classification<prediction: \"not_spam\", confidence: 0.99301744>, Classification<prediction: \"spam\", confidence: 0.99794626>, Classification<prediction: \"not_spam\", confidence: 0.9999307>, Classification<prediction: \"spam\", confidence: 0.99990946>, Classification<prediction: \"not_spam\", confidence: 0.9998682>, Classification<prediction: \"not_spam\", confidence: 0.99974394>, Classification<prediction: \"not_spam\", confidence: 0.9987764>, Classification<prediction: \"spam\", confidence: 0.9998969>, Classification<prediction: \"spam\", confidence: 0.98274535>, Classification<prediction: \"not_spam\", confidence: 0.99956983>, Classification<prediction: \"not_spam\", confidence: 0.99955344>, Classification<prediction: \"spam\", confidence: 0.9976844>, Classification<prediction: \"not_spam\", confidence: 0.99975437>, Classification<prediction: \"not_spam\", confidence: 0.9986498>, Classification<prediction: \"not_spam\", confidence: 0.999717>, Classification<prediction: \"spam\", confidence: 0.9945974>, Classification<prediction: \"spam\", confidence: 0.9997501>, Classification<prediction: \"spam\", confidence: 0.99963194>, Classification<prediction: \"not_spam\", confidence: 0.99827576>, Classification<prediction: \"not_spam\", confidence: 0.999823>, Classification<prediction: \"not_spam\", confidence: 0.99997646>, Classification<prediction: \"not_spam\", confidence: 0.99998045>, Classification<prediction: \"spam\", confidence: 0.9993915>, Classification<prediction: \"not_spam\", confidence: 0.99997324>, Classification<prediction: \"spam\", confidence: 0.996615>, Classification<prediction: \"not_spam\", confidence: 0.9999342>, Classification<prediction: \"not_spam\", confidence: 0.9997861>, Classification<prediction: \"spam\", confidence: 0.909654>, Classification<prediction: \"not_spam\", confidence: 0.9999982>, Classification<prediction: \"spam\", confidence: 0.99328643>, Classification<prediction: \"spam\", confidence: 0.99932736>, Classification<prediction: \"not_spam\", confidence: 0.999827>, Classification<prediction: \"not_spam\", confidence: 0.9642829>, Classification<prediction: \"not_spam\", confidence: 0.99992573>, Classification<prediction: \"not_spam\", confidence: 0.9986238>, Classification<prediction: \"not_spam\", confidence: 0.9995192>, Classification<prediction: \"not_spam\", confidence: 0.9998979>, Classification<prediction: \"not_spam\", confidence: 0.99999094>, Classification<prediction: \"not_spam\", confidence: 0.99754834>, Classification<prediction: \"spam\", confidence: 0.9999152>, Classification<prediction: \"not_spam\", confidence: 0.9999809>, Classification<prediction: \"not_spam\", confidence: 0.9990254>, Classification<prediction: \"not_spam\", confidence: 0.99990666>, Classification<prediction: \"not_spam\", confidence: 0.9999083>, Classification<prediction: \"not_spam\", confidence: 0.9525086>, Classification<prediction: \"not_spam\", confidence: 0.9999635>, Classification<prediction: \"not_spam\", confidence: 0.9995907>, Classification<prediction: \"not_spam\", confidence: 0.99854624>, Classification<prediction: \"not_spam\", confidence: 0.9999542>, Classification<prediction: \"not_spam\", confidence: 0.99913055>, Classification<prediction: \"not_spam\", confidence: 0.99578756>, Classification<prediction: \"not_spam\", confidence: 0.99970305>, Classification<prediction: \"not_spam\", confidence: 0.90105087>, Classification<prediction: \"not_spam\", confidence: 0.9877372>, Classification<prediction: \"not_spam\", confidence: 0.9999919>, Classification<prediction: \"not_spam\", confidence: 0.9998572>, Classification<prediction: \"not_spam\", confidence: 0.9991196>, Classification<prediction: \"not_spam\", confidence: 0.99999636>, Classification<prediction: \"not_spam\", confidence: 0.9999472>, Classification<prediction: \"not_spam\", confidence: 0.99966335>, Classification<prediction: \"spam\", confidence: 0.99905646>, Classification<prediction: \"not_spam\", confidence: 0.9314583>, Classification<prediction: \"not_spam\", confidence: 0.9999881>, Classification<prediction: \"not_spam\", confidence: 0.99909353>, Classification<prediction: \"not_spam\", confidence: 0.9936252>, Classification<prediction: \"not_spam\", confidence: 0.99821985>, Classification<prediction: \"not_spam\", confidence: 0.9999743>, Classification<prediction: \"spam\", confidence: 0.783609>, Classification<prediction: \"not_spam\", confidence: 0.9998391>, Classification<prediction: \"not_spam\", confidence: 0.99479353>, Classification<prediction: \"not_spam\", confidence: 0.93608505>, Classification<prediction: \"not_spam\", confidence: 0.99963623>, Classification<prediction: \"spam\", confidence: 0.9183693>, Classification<prediction: \"not_spam\", confidence: 0.99935174>, Classification<prediction: \"spam\", confidence: 0.99998623>, Classification<prediction: \"not_spam\", confidence: 0.99999213>, Classification<prediction: \"not_spam\", confidence: 0.9992508>, Classification<prediction: \"not_spam\", confidence: 0.9991977>, Classification<prediction: \"not_spam\", confidence: 0.9999995>, Classification<prediction: \"not_spam\", confidence: 0.99709874>, Classification<prediction: \"spam\", confidence: 0.99318826>, Classification<prediction: \"not_spam\", confidence: 0.9999366>, Classification<prediction: \"not_spam\", confidence: 0.9995964>, Classification<prediction: \"not_spam\", confidence: 0.99999493>, Classification<prediction: \"spam\", confidence: 0.9987604>, Classification<prediction: \"not_spam\", confidence: 0.8951156>, Classification<prediction: \"not_spam\", confidence: 0.9998726>, Classification<prediction: \"spam\", confidence: 0.99998397>, Classification<prediction: \"not_spam\", confidence: 0.5910912>, Classification<prediction: \"spam\", confidence: 0.9995202>, Classification<prediction: \"spam\", confidence: 0.9136223>, Classification<prediction: \"not_spam\", confidence: 0.99999964>, Classification<prediction: \"spam\", confidence: 0.80348426>, Classification<prediction: \"spam\", confidence: 0.99946916>, Classification<prediction: \"not_spam\", confidence: 0.9974002>, Classification<prediction: \"spam\", confidence: 0.99594384>, Classification<prediction: \"spam\", confidence: 0.9999971>, Classification<prediction: \"not_spam\", confidence: 0.9997314>, Classification<prediction: \"not_spam\", confidence: 0.94114786>, Classification<prediction: \"not_spam\", confidence: 0.999914>, Classification<prediction: \"spam\", confidence: 0.99988246>, Classification<prediction: \"spam\", confidence: 0.68123853>, Classification<prediction: \"spam\", confidence: 0.98651755>, Classification<prediction: \"not_spam\", confidence: 0.9998862>, Classification<prediction: \"not_spam\", confidence: 0.9930646>, Classification<prediction: \"spam\", confidence: 0.9999718>, Classification<prediction: \"not_spam\", confidence: 0.98825413>, Classification<prediction: \"spam\", confidence: 0.9997485>, Classification<prediction: \"not_spam\", confidence: 0.99107444>, Classification<prediction: \"spam\", confidence: 0.99997747>, Classification<prediction: \"spam\", confidence: 0.9952853>, Classification<prediction: \"not_spam\", confidence: 0.9999915>, Classification<prediction: \"not_spam\", confidence: 0.9998702>, Classification<prediction: \"not_spam\", confidence: 0.6458598>, Classification<prediction: \"not_spam\", confidence: 0.98865736>, Classification<prediction: \"not_spam\", confidence: 0.9999268>, Classification<prediction: \"not_spam\", confidence: 0.9996756>, Classification<prediction: \"spam\", confidence: 0.9999132>, Classification<prediction: \"not_spam\", confidence: 0.99999523>, Classification<prediction: \"not_spam\", confidence: 0.9999996>, Classification<prediction: \"spam\", confidence: 0.99811435>, Classification<prediction: \"spam\", confidence: 0.9990055>, Classification<prediction: \"spam\", confidence: 0.9999152>, Classification<prediction: \"not_spam\", confidence: 0.9999987>, Classification<prediction: \"spam\", confidence: 0.99716103>, Classification<prediction: \"not_spam\", confidence: 0.99999505>, Classification<prediction: \"not_spam\", confidence: 0.9999813>, Classification<prediction: \"not_spam\", confidence: 0.9993395>, Classification<prediction: \"not_spam\", confidence: 0.99980456>, Classification<prediction: \"not_spam\", confidence: 0.8951474>, Classification<prediction: \"not_spam\", confidence: 0.999797>, Classification<prediction: \"not_spam\", confidence: 0.99970514>, Classification<prediction: \"spam\", confidence: 0.9998227>, Classification<prediction: \"spam\", confidence: 0.9999212>, Classification<prediction: \"spam\", confidence: 0.5886993>, Classification<prediction: \"not_spam\", confidence: 0.9993146>, Classification<prediction: \"spam\", confidence: 0.9991908>, Classification<prediction: \"not_spam\", confidence: 0.9999591>, Classification<prediction: \"spam\", confidence: 0.8070153>, Classification<prediction: \"not_spam\", confidence: 0.9321821>, Classification<prediction: \"not_spam\", confidence: 0.9990825>, Classification<prediction: \"not_spam\", confidence: 0.9999895>, Classification<prediction: \"spam\", confidence: 0.9607934>, Classification<prediction: \"not_spam\", confidence: 0.9999593>, Classification<prediction: \"not_spam\", confidence: 0.99998885>, Classification<prediction: \"not_spam\", confidence: 0.9999663>, Classification<prediction: \"not_spam\", confidence: 0.99947387>, Classification<prediction: \"not_spam\", confidence: 0.98522574>, Classification<prediction: \"spam\", confidence: 0.999905>, Classification<prediction: \"not_spam\", confidence: 0.9872205>, Classification<prediction: \"spam\", confidence: 0.9730827>, Classification<prediction: \"spam\", confidence: 0.9999982>, Classification<prediction: \"spam\", confidence: 0.9964374>, Classification<prediction: \"not_spam\", confidence: 0.99983627>, Classification<prediction: \"spam\", confidence: 0.99727887>, Classification<prediction: \"not_spam\", confidence: 0.9504587>, Classification<prediction: \"not_spam\", confidence: 0.99998415>, Classification<prediction: \"not_spam\", confidence: 0.9994868>, Classification<prediction: \"spam\", confidence: 0.98779666>, Classification<prediction: \"spam\", confidence: 0.99892>, Classification<prediction: \"not_spam\", confidence: 0.99996036>, Classification<prediction: \"not_spam\", confidence: 0.99940646>, Classification<prediction: \"not_spam\", confidence: 0.9962831>, Classification<prediction: \"not_spam\", confidence: 0.9993518>, Classification<prediction: \"not_spam\", confidence: 0.99970967>, Classification<prediction: \"not_spam\", confidence: 0.99999636>, Classification<prediction: \"not_spam\", confidence: 0.9999401>, Classification<prediction: \"not_spam\", confidence: 0.9999956>, Classification<prediction: \"not_spam\", confidence: 0.99998295>, Classification<prediction: \"not_spam\", confidence: 0.95296705>, Classification<prediction: \"not_spam\", confidence: 0.95702785>, Classification<prediction: \"not_spam\", confidence: 0.9996553>, Classification<prediction: \"not_spam\", confidence: 0.99999595>, Classification<prediction: \"spam\", confidence: 0.8106087>, Classification<prediction: \"spam\", confidence: 0.9999511>, Classification<prediction: \"not_spam\", confidence: 0.99785954>, Classification<prediction: \"not_spam\", confidence: 0.9990506>, Classification<prediction: \"not_spam\", confidence: 0.9997118>, Classification<prediction: \"not_spam\", confidence: 0.99901336>, Classification<prediction: \"not_spam\", confidence: 0.95331377>, Classification<prediction: \"not_spam\", confidence: 0.9999989>, Classification<prediction: \"not_spam\", confidence: 0.99978244>, Classification<prediction: \"not_spam\", confidence: 0.98979664>, Classification<prediction: \"not_spam\", confidence: 0.9999792>, Classification<prediction: \"spam\", confidence: 0.99991244>, Classification<prediction: \"spam\", confidence: 0.98924774>, Classification<prediction: \"not_spam\", confidence: 0.99945545>, Classification<prediction: \"spam\", confidence: 0.9992783>, Classification<prediction: \"not_spam\", confidence: 0.8538469>, Classification<prediction: \"not_spam\", confidence: 0.9994526>, Classification<prediction: \"spam\", confidence: 0.99997514>, Classification<prediction: \"not_spam\", confidence: 0.99999857>, Classification<prediction: \"not_spam\", confidence: 0.9995827>, Classification<prediction: \"not_spam\", confidence: 0.99555075>, Classification<prediction: \"not_spam\", confidence: 0.99997264>, Classification<prediction: \"not_spam\", confidence: 0.993129>, Classification<prediction: \"spam\", confidence: 0.998668>, Classification<prediction: \"not_spam\", confidence: 0.9977118>, Classification<prediction: \"not_spam\", confidence: 0.9889241>, Classification<prediction: \"not_spam\", confidence: 0.9995938>, Classification<prediction: \"not_spam\", confidence: 0.99991584>, Classification<prediction: \"not_spam\", confidence: 0.9601581>, Classification<prediction: \"not_spam\", confidence: 0.999503>, Classification<prediction: \"not_spam\", confidence: 0.9951355>, Classification<prediction: \"not_spam\", confidence: 0.99998313>, Classification<prediction: \"not_spam\", confidence: 0.99987197>, Classification<prediction: \"not_spam\", confidence: 0.9987387>, Classification<prediction: \"not_spam\", confidence: 0.9998554>, Classification<prediction: \"not_spam\", confidence: 0.99694234>, Classification<prediction: \"not_spam\", confidence: 0.9998473>, Classification<prediction: \"not_spam\", confidence: 0.999962>, Classification<prediction: \"not_spam\", confidence: 0.99997>, Classification<prediction: \"not_spam\", confidence: 0.8962898>, Classification<prediction: \"not_spam\", confidence: 0.99991155>, Classification<prediction: \"spam\", confidence: 0.655153>, Classification<prediction: \"not_spam\", confidence: 0.9992216>, Classification<prediction: \"not_spam\", confidence: 0.9994042>, Classification<prediction: \"not_spam\", confidence: 0.9973594>, Classification<prediction: \"not_spam\", confidence: 0.99946356>, Classification<prediction: \"not_spam\", confidence: 0.9985164>, Classification<prediction: \"not_spam\", confidence: 0.9999882>, Classification<prediction: \"not_spam\", confidence: 0.9999988>, Classification<prediction: \"not_spam\", confidence: 0.9999957>, Classification<prediction: \"not_spam\", confidence: 0.99999744>, Classification<prediction: \"spam\", confidence: 0.998803>, Classification<prediction: \"not_spam\", confidence: 0.9993188>, Classification<prediction: \"not_spam\", confidence: 0.9999948>, Classification<prediction: \"not_spam\", confidence: 0.9996919>, Classification<prediction: \"not_spam\", confidence: 0.9990942>, Classification<prediction: \"spam\", confidence: 0.9999287>, Classification<prediction: \"not_spam\", confidence: 0.9999883>, Classification<prediction: \"not_spam\", confidence: 0.9998455>, Classification<prediction: \"not_spam\", confidence: 0.9765323>, Classification<prediction: \"not_spam\", confidence: 0.99997675>, Classification<prediction: \"not_spam\", confidence: 0.99997723>, Classification<prediction: \"spam\", confidence: 0.9983039>, Classification<prediction: \"spam\", confidence: 0.99993956>, Classification<prediction: \"not_spam\", confidence: 0.99983853>, Classification<prediction: \"not_spam\", confidence: 0.98910815>, Classification<prediction: \"spam\", confidence: 0.9769498>, Classification<prediction: \"spam\", confidence: 0.99905044>, Classification<prediction: \"spam\", confidence: 0.99998677>, Classification<prediction: \"not_spam\", confidence: 0.9999875>, Classification<prediction: \"spam\", confidence: 0.9993742>, Classification<prediction: \"spam\", confidence: 0.999847>, Classification<prediction: \"spam\", confidence: 0.9740073>, Classification<prediction: \"spam\", confidence: 0.9998244>, Classification<prediction: \"not_spam\", confidence: 0.9999987>, Classification<prediction: \"not_spam\", confidence: 0.9925087>, Classification<prediction: \"not_spam\", confidence: 0.999839>, Classification<prediction: \"spam\", confidence: 0.99799013>, Classification<prediction: \"spam\", confidence: 0.9870102>, Classification<prediction: \"not_spam\", confidence: 0.9989527>, Classification<prediction: \"not_spam\", confidence: 0.9999979>, Classification<prediction: \"not_spam\", confidence: 0.9990611>, Classification<prediction: \"spam\", confidence: 0.99012655>, Classification<prediction: \"not_spam\", confidence: 0.99222064>, Classification<prediction: \"spam\", confidence: 0.9965555>, Classification<prediction: \"not_spam\", confidence: 0.9998347>, Classification<prediction: \"spam\", confidence: 0.9991878>, Classification<prediction: \"not_spam\", confidence: 0.9998847>, Classification<prediction: \"spam\", confidence: 0.999877>, Classification<prediction: \"not_spam\", confidence: 0.99318>, Classification<prediction: \"not_spam\", confidence: 0.99742126>, Classification<prediction: \"not_spam\", confidence: 0.9999463>, Classification<prediction: \"not_spam\", confidence: 0.7682002>, Classification<prediction: \"spam\", confidence: 0.99998397>, Classification<prediction: \"not_spam\", confidence: 0.9996317>, Classification<prediction: \"not_spam\", confidence: 0.9999278>, Classification<prediction: \"not_spam\", confidence: 0.9998581>, Classification<prediction: \"not_spam\", confidence: 0.99993765>, Classification<prediction: \"not_spam\", confidence: 0.8332635>, Classification<prediction: \"not_spam\", confidence: 0.99998504>, Classification<prediction: \"not_spam\", confidence: 0.9996764>, Classification<prediction: \"not_spam\", confidence: 0.99989134>, Classification<prediction: \"not_spam\", confidence: 0.9969358>, Classification<prediction: \"not_spam\", confidence: 0.9999788>, Classification<prediction: \"not_spam\", confidence: 0.99990815>, Classification<prediction: \"not_spam\", confidence: 0.999992>, Classification<prediction: \"not_spam\", confidence: 0.99281037>, Classification<prediction: \"not_spam\", confidence: 0.9967417>, Classification<prediction: \"not_spam\", confidence: 0.9983925>, Classification<prediction: \"spam\", confidence: 0.99983263>, Classification<prediction: \"not_spam\", confidence: 0.99866664>, Classification<prediction: \"not_spam\", confidence: 0.99958247>, Classification<prediction: \"not_spam\", confidence: 0.9959825>, Classification<prediction: \"not_spam\", confidence: 0.9979306>, Classification<prediction: \"not_spam\", confidence: 0.99967504>, Classification<prediction: \"not_spam\", confidence: 0.97510713>, Classification<prediction: \"spam\", confidence: 0.9998609>, Classification<prediction: \"spam\", confidence: 0.9999989>, Classification<prediction: \"not_spam\", confidence: 0.9999531>, Classification<prediction: \"not_spam\", confidence: 0.96381956>, Classification<prediction: \"not_spam\", confidence: 0.9994832>, Classification<prediction: \"not_spam\", confidence: 0.9988443>, Classification<prediction: \"not_spam\", confidence: 0.998022>, Classification<prediction: \"not_spam\", confidence: 0.99856067>, Classification<prediction: \"not_spam\", confidence: 0.99999857>, Classification<prediction: \"spam\", confidence: 0.9870877>, Classification<prediction: \"not_spam\", confidence: 0.99999756>, Classification<prediction: \"not_spam\", confidence: 0.9999809>, Classification<prediction: \"not_spam\", confidence: 0.99987763>, Classification<prediction: \"not_spam\", confidence: 0.99690634>, Classification<prediction: \"not_spam\", confidence: 0.99969935>, Classification<prediction: \"not_spam\", confidence: 0.9999434>, Classification<prediction: \"not_spam\", confidence: 0.99998885>, Classification<prediction: \"spam\", confidence: 0.9908954>, Classification<prediction: \"not_spam\", confidence: 0.9974353>, Classification<prediction: \"not_spam\", confidence: 0.9994232>, Classification<prediction: \"spam\", confidence: 0.9911741>, Classification<prediction: \"not_spam\", confidence: 0.9997434>, Classification<prediction: \"not_spam\", confidence: 0.9998054>, Classification<prediction: \"not_spam\", confidence: 0.99805045>, Classification<prediction: \"not_spam\", confidence: 0.99999446>, Classification<prediction: \"spam\", confidence: 0.68123853>, Classification<prediction: \"not_spam\", confidence: 0.99563354>, Classification<prediction: \"not_spam\", confidence: 0.99986887>, Classification<prediction: \"spam\", confidence: 0.9995249>, Classification<prediction: \"not_spam\", confidence: 0.9999913>, Classification<prediction: \"spam\", confidence: 0.9996264>, Classification<prediction: \"not_spam\", confidence: 0.99990976>, Classification<prediction: \"not_spam\", confidence: 0.9999078>, Classification<prediction: \"spam\", confidence: 0.9862673>, Classification<prediction: \"not_spam\", confidence: 0.99746865>, Classification<prediction: \"spam\", confidence: 0.97192997>, Classification<prediction: \"not_spam\", confidence: 0.9905378>, Classification<prediction: \"not_spam\", confidence: 0.998334>, Classification<prediction: \"not_spam\", confidence: 0.99994>, Classification<prediction: \"not_spam\", confidence: 0.99545234>, Classification<prediction: \"not_spam\", confidence: 0.999551>, Classification<prediction: \"not_spam\", confidence: 0.99967295>, Classification<prediction: \"not_spam\", confidence: 0.9999863>, Classification<prediction: \"not_spam\", confidence: 0.99999887>, Classification<prediction: \"spam\", confidence: 0.9995421>, Classification<prediction: \"not_spam\", confidence: 0.9985006>, Classification<prediction: \"not_spam\", confidence: 0.9997759>, Classification<prediction: \"not_spam\", confidence: 0.9999326>, Classification<prediction: \"not_spam\", confidence: 0.99998677>, Classification<prediction: \"not_spam\", confidence: 0.99732393>, Classification<prediction: \"not_spam\", confidence: 0.9588281>, Classification<prediction: \"not_spam\", confidence: 0.99990964>, Classification<prediction: \"not_spam\", confidence: 0.9999264>, Classification<prediction: \"not_spam\", confidence: 0.9997976>, Classification<prediction: \"spam\", confidence: 0.9999839>, Classification<prediction: \"spam\", confidence: 0.9991785>, Classification<prediction: \"not_spam\", confidence: 0.99996156>, Classification<prediction: \"not_spam\", confidence: 0.9803372>, Classification<prediction: \"not_spam\", confidence: 0.9992113>, Classification<prediction: \"not_spam\", confidence: 0.9999917>, Classification<prediction: \"not_spam\", confidence: 0.99945104>, Classification<prediction: \"not_spam\", confidence: 0.9856518>, Classification<prediction: \"spam\", confidence: 0.99738854>, Classification<prediction: \"not_spam\", confidence: 0.99861795>, Classification<prediction: \"not_spam\", confidence: 0.9999077>, Classification<prediction: \"spam\", confidence: 0.99955666>, Classification<prediction: \"spam\", confidence: 0.9999971>, Classification<prediction: \"not_spam\", confidence: 0.99121594>, Classification<prediction: \"not_spam\", confidence: 0.9965968>, Classification<prediction: \"not_spam\", confidence: 0.999992>, Classification<prediction: \"not_spam\", confidence: 0.9634612>, Classification<prediction: \"spam\", confidence: 0.9888951>, Classification<prediction: \"spam\", confidence: 0.9991724>, Classification<prediction: \"not_spam\", confidence: 0.98109627>, Classification<prediction: \"spam\", confidence: 0.97390103>, Classification<prediction: \"not_spam\", confidence: 0.99999684>, Classification<prediction: \"not_spam\", confidence: 0.70458907>, Classification<prediction: \"spam\", confidence: 0.85408574>, Classification<prediction: \"spam\", confidence: 0.97536516>, Classification<prediction: \"spam\", confidence: 0.9776385>, Classification<prediction: \"not_spam\", confidence: 0.9999997>, Classification<prediction: \"spam\", confidence: 0.99835014>, Classification<prediction: \"not_spam\", confidence: 0.9999218>, Classification<prediction: \"not_spam\", confidence: 0.999994>, Classification<prediction: \"not_spam\", confidence: 0.99990326>, Classification<prediction: \"not_spam\", confidence: 0.9992734>, Classification<prediction: \"spam\", confidence: 0.9997922>, Classification<prediction: \"not_spam\", confidence: 0.999848>, Classification<prediction: \"spam\", confidence: 0.999981>, Classification<prediction: \"not_spam\", confidence: 0.9998241>, Classification<prediction: \"not_spam\", confidence: 0.99920905>, Classification<prediction: \"not_spam\", confidence: 0.9999157>, Classification<prediction: \"not_spam\", confidence: 0.99977994>, Classification<prediction: \"not_spam\", confidence: 0.990372>, Classification<prediction: \"not_spam\", confidence: 0.9999767>, Classification<prediction: \"not_spam\", confidence: 0.99959886>, Classification<prediction: \"not_spam\", confidence: 0.9998718>, Classification<prediction: \"spam\", confidence: 0.59829706>, Classification<prediction: \"spam\", confidence: 0.99979067>, Classification<prediction: \"not_spam\", confidence: 0.9999447>, Classification<prediction: \"spam\", confidence: 0.9891132>, Classification<prediction: \"not_spam\", confidence: 0.99986297>, Classification<prediction: \"not_spam\", confidence: 0.99730474>, Classification<prediction: \"not_spam\", confidence: 0.9999266>, Classification<prediction: \"not_spam\", confidence: 0.9451794>, Classification<prediction: \"spam\", confidence: 0.81909573>, Classification<prediction: \"not_spam\", confidence: 0.9995676>, Classification<prediction: \"not_spam\", confidence: 0.9965635>, Classification<prediction: \"not_spam\", confidence: 0.99983376>, Classification<prediction: \"spam\", confidence: 0.9993151>, Classification<prediction: \"not_spam\", confidence: 0.9999886>, Classification<prediction: \"not_spam\", confidence: 0.9996794>, Classification<prediction: \"not_spam\", confidence: 0.9999579>, Classification<prediction: \"not_spam\", confidence: 0.9996249>, Classification<prediction: \"spam\", confidence: 0.99978584>, Classification<prediction: \"not_spam\", confidence: 0.9853957>, Classification<prediction: \"not_spam\", confidence: 0.9999359>, Classification<prediction: \"spam\", confidence: 0.99989957>, Classification<prediction: \"not_spam\", confidence: 0.99980325>, Classification<prediction: \"not_spam\", confidence: 0.99896437>, Classification<prediction: \"not_spam\", confidence: 0.99996406>, Classification<prediction: \"not_spam\", confidence: 0.9934938>, Classification<prediction: \"spam\", confidence: 0.9920728>, Classification<prediction: \"not_spam\", confidence: 0.9992328>, Classification<prediction: \"not_spam\", confidence: 0.9999686>, Classification<prediction: \"not_spam\", confidence: 0.9985503>, Classification<prediction: \"not_spam\", confidence: 0.99998945>, Classification<prediction: \"not_spam\", confidence: 0.9992649>, Classification<prediction: \"not_spam\", confidence: 0.9833122>, Classification<prediction: \"spam\", confidence: 0.99626434>, Classification<prediction: \"not_spam\", confidence: 0.9997219>, Classification<prediction: \"spam\", confidence: 0.9998943>, Classification<prediction: \"not_spam\", confidence: 0.9998076>, Classification<prediction: \"not_spam\", confidence: 0.9992588>, Classification<prediction: \"not_spam\", confidence: 0.99997884>, Classification<prediction: \"not_spam\", confidence: 0.9973831>, Classification<prediction: \"spam\", confidence: 0.99949914>, Classification<prediction: \"not_spam\", confidence: 0.9999987>, Classification<prediction: \"spam\", confidence: 0.84616214>, Classification<prediction: \"not_spam\", confidence: 0.9999902>, Classification<prediction: \"spam\", confidence: 0.9999541>, Classification<prediction: \"not_spam\", confidence: 0.9998534>, Classification<prediction: \"spam\", confidence: 0.999659>, Classification<prediction: \"not_spam\", confidence: 0.9999978>, Classification<prediction: \"spam\", confidence: 0.9998443>, Classification<prediction: \"not_spam\", confidence: 0.999988>, Classification<prediction: \"not_spam\", confidence: 0.99889827>, Classification<prediction: \"not_spam\", confidence: 0.9979929>, Classification<prediction: \"not_spam\", confidence: 0.9999978>, Classification<prediction: \"spam\", confidence: 0.78825355>, Classification<prediction: \"spam\", confidence: 0.9890655>, Classification<prediction: \"not_spam\", confidence: 0.99999887>, Classification<prediction: \"not_spam\", confidence: 0.99985933>, Classification<prediction: \"not_spam\", confidence: 0.99982345>, Classification<prediction: \"spam\", confidence: 0.99980414>, Classification<prediction: \"not_spam\", confidence: 0.98709667>, Classification<prediction: \"not_spam\", confidence: 0.99997514>, Classification<prediction: \"not_spam\", confidence: 0.9999812>, Classification<prediction: \"not_spam\", confidence: 0.9997848>, Classification<prediction: \"not_spam\", confidence: 0.9984132>, Classification<prediction: \"spam\", confidence: 0.9971061>, Classification<prediction: \"not_spam\", confidence: 0.99971175>, Classification<prediction: \"not_spam\", confidence: 0.9998367>, Classification<prediction: \"not_spam\", confidence: 0.99924636>, Classification<prediction: \"spam\", confidence: 0.99942887>, Classification<prediction: \"not_spam\", confidence: 0.9961322>, Classification<prediction: \"not_spam\", confidence: 0.99989605>, Classification<prediction: \"spam\", confidence: 0.9567612>, Classification<prediction: \"spam\", confidence: 0.9966175>, Classification<prediction: \"not_spam\", confidence: 0.99991757>, Classification<prediction: \"not_spam\", confidence: 0.99988866>, Classification<prediction: \"spam\", confidence: 0.9960149>, Classification<prediction: \"not_spam\", confidence: 0.9999545>, Classification<prediction: \"spam\", confidence: 0.9999239>, Classification<prediction: \"not_spam\", confidence: 0.9945417>, Classification<prediction: \"not_spam\", confidence: 0.8689287>, Classification<prediction: \"spam\", confidence: 0.99297506>, Classification<prediction: \"spam\", confidence: 0.9870249>, Classification<prediction: \"spam\", confidence: 0.9643636>, Classification<prediction: \"not_spam\", confidence: 0.99882686>, Classification<prediction: \"spam\", confidence: 0.9908802>, Classification<prediction: \"not_spam\", confidence: 0.9998914>, Classification<prediction: \"not_spam\", confidence: 0.99998343>, Classification<prediction: \"not_spam\", confidence: 0.9993467>, Classification<prediction: \"not_spam\", confidence: 0.9998485>, Classification<prediction: \"spam\", confidence: 0.9483943>, Classification<prediction: \"not_spam\", confidence: 0.9992743>, Classification<prediction: \"not_spam\", confidence: 0.99900156>, Classification<prediction: \"spam\", confidence: 0.9935288>, Classification<prediction: \"not_spam\", confidence: 0.9998495>, Classification<prediction: \"not_spam\", confidence: 0.99925876>, Classification<prediction: \"spam\", confidence: 0.9996264>, Classification<prediction: \"not_spam\", confidence: 0.99933076>, Classification<prediction: \"spam\", confidence: 0.7924326>, Classification<prediction: \"not_spam\", confidence: 0.91785276>, Classification<prediction: \"not_spam\", confidence: 0.9999977>, Classification<prediction: \"not_spam\", confidence: 0.9144139>, Classification<prediction: \"spam\", confidence: 0.99968743>, Classification<prediction: \"not_spam\", confidence: 0.99874526>, Classification<prediction: \"not_spam\", confidence: 0.998641>, Classification<prediction: \"not_spam\", confidence: 0.993105>, Classification<prediction: \"spam\", confidence: 0.99998814>, Classification<prediction: \"not_spam\", confidence: 0.99983644>, Classification<prediction: \"not_spam\", confidence: 0.99998003>, Classification<prediction: \"not_spam\", confidence: 0.99814105>, Classification<prediction: \"spam\", confidence: 0.9997273>, Classification<prediction: \"not_spam\", confidence: 0.9999716>, Classification<prediction: \"not_spam\", confidence: 0.9767159>, Classification<prediction: \"not_spam\", confidence: 0.63373125>, Classification<prediction: \"not_spam\", confidence: 0.9954664>, Classification<prediction: \"spam\", confidence: 0.9999442>, Classification<prediction: \"not_spam\", confidence: 0.99949>, Classification<prediction: \"not_spam\", confidence: 0.9953085>, Classification<prediction: \"spam\", confidence: 0.76584506>, Classification<prediction: \"not_spam\", confidence: 0.9999246>, Classification<prediction: \"not_spam\", confidence: 0.9992765>, Classification<prediction: \"not_spam\", confidence: 0.98970944>, Classification<prediction: \"not_spam\", confidence: 0.99997216>, Classification<prediction: \"not_spam\", confidence: 0.9999849>, Classification<prediction: \"not_spam\", confidence: 0.99896723>, Classification<prediction: \"spam\", confidence: 0.9973052>, Classification<prediction: \"not_spam\", confidence: 0.9999666>, Classification<prediction: \"not_spam\", confidence: 0.99721867>, Classification<prediction: \"not_spam\", confidence: 0.9948019>, Classification<prediction: \"not_spam\", confidence: 0.9650257>, Classification<prediction: \"not_spam\", confidence: 0.89436626>, Classification<prediction: \"not_spam\", confidence: 0.9999771>, Classification<prediction: \"not_spam\", confidence: 0.9987598>, Classification<prediction: \"not_spam\", confidence: 0.99992687>, Classification<prediction: \"not_spam\", confidence: 0.99768084>, Classification<prediction: \"not_spam\", confidence: 0.99996334>, Classification<prediction: \"not_spam\", confidence: 0.99966335>, Classification<prediction: \"spam\", confidence: 0.9987447>, Classification<prediction: \"not_spam\", confidence: 0.9960186>, Classification<prediction: \"spam\", confidence: 0.88131285>, Classification<prediction: \"not_spam\", confidence: 0.9976336>, Classification<prediction: \"spam\", confidence: 0.99751407>, Classification<prediction: \"not_spam\", confidence: 0.99871737>, Classification<prediction: \"spam\", confidence: 0.8992322>, Classification<prediction: \"not_spam\", confidence: 0.99990886>, Classification<prediction: \"spam\", confidence: 0.64438486>, Classification<prediction: \"not_spam\", confidence: 0.9984644>, Classification<prediction: \"not_spam\", confidence: 0.99990857>, Classification<prediction: \"spam\", confidence: 0.9981531>, Classification<prediction: \"spam\", confidence: 0.9996806>, Classification<prediction: \"spam\", confidence: 0.98258966>, Classification<prediction: \"spam\", confidence: 0.9861841>, Classification<prediction: \"spam\", confidence: 0.99134755>, Classification<prediction: \"spam\", confidence: 0.9999982>, Classification<prediction: \"spam\", confidence: 0.9997772>, Classification<prediction: \"spam\", confidence: 0.5190579>, Classification<prediction: \"not_spam\", confidence: 0.99375063>, Classification<prediction: \"not_spam\", confidence: 0.9999821>, Classification<prediction: \"not_spam\", confidence: 0.99997896>, Classification<prediction: \"not_spam\", confidence: 0.99948955>, Classification<prediction: \"spam\", confidence: 0.9506711>, Classification<prediction: \"not_spam\", confidence: 0.9999837>, Classification<prediction: \"spam\", confidence: 0.99998856>, Classification<prediction: \"not_spam\", confidence: 0.9999716>, Classification<prediction: \"not_spam\", confidence: 0.9892783>, Classification<prediction: \"spam\", confidence: 0.99983114>, Classification<prediction: \"not_spam\", confidence: 0.99986076>, Classification<prediction: \"spam\", confidence: 0.67266>, Classification<prediction: \"not_spam\", confidence: 0.9988957>, Classification<prediction: \"not_spam\", confidence: 0.9991463>, Classification<prediction: \"not_spam\", confidence: 0.9973262>, Classification<prediction: \"not_spam\", confidence: 0.99990803>, Classification<prediction: \"not_spam\", confidence: 0.99924904>, Classification<prediction: \"spam\", confidence: 0.98725164>, Classification<prediction: \"spam\", confidence: 0.99986565>, Classification<prediction: \"not_spam\", confidence: 0.99989563>, Classification<prediction: \"spam\", confidence: 0.98748475>, Classification<prediction: \"spam\", confidence: 0.99949026>, Classification<prediction: \"spam\", confidence: 0.859787>, Classification<prediction: \"spam\", confidence: 0.9022959>, Classification<prediction: \"not_spam\", confidence: 0.99995416>, Classification<prediction: \"spam\", confidence: 0.9999915>, Classification<prediction: \"not_spam\", confidence: 0.99821794>, Classification<prediction: \"spam\", confidence: 0.61218697>, Classification<prediction: \"spam\", confidence: 0.99995905>, Classification<prediction: \"not_spam\", confidence: 0.9940012>, Classification<prediction: \"not_spam\", confidence: 0.99999875>, Classification<prediction: \"not_spam\", confidence: 0.9680623>, Classification<prediction: \"not_spam\", confidence: 0.99606353>, Classification<prediction: \"spam\", confidence: 0.91636443>, Classification<prediction: \"not_spam\", confidence: 0.9993296>, Classification<prediction: \"not_spam\", confidence: 0.9999096>, Classification<prediction: \"spam\", confidence: 0.9928146>, Classification<prediction: \"not_spam\", confidence: 0.999963>, Classification<prediction: \"spam\", confidence: 0.99811435>, Classification<prediction: \"not_spam\", confidence: 0.99828494>, Classification<prediction: \"spam\", confidence: 0.9992043>, Classification<prediction: \"not_spam\", confidence: 0.99999917>, Classification<prediction: \"not_spam\", confidence: 0.99963367>, Classification<prediction: \"not_spam\", confidence: 0.9999326>, Classification<prediction: \"spam\", confidence: 0.9922397>, Classification<prediction: \"spam\", confidence: 0.99991643>, Classification<prediction: \"not_spam\", confidence: 0.9998312>, Classification<prediction: \"spam\", confidence: 0.9999946>, Classification<prediction: \"spam\", confidence: 0.99946916>, Classification<prediction: \"not_spam\", confidence: 0.9999433>, Classification<prediction: \"spam\", confidence: 0.9998657>, Classification<prediction: \"not_spam\", confidence: 0.99936616>, Classification<prediction: \"not_spam\", confidence: 0.99846333>, Classification<prediction: \"not_spam\", confidence: 0.9999992>, Classification<prediction: \"not_spam\", confidence: 0.99959457>, Classification<prediction: \"not_spam\", confidence: 0.99299324>, Classification<prediction: \"not_spam\", confidence: 0.9969817>, Classification<prediction: \"spam\", confidence: 0.9732596>, Classification<prediction: \"not_spam\", confidence: 0.99851364>, Classification<prediction: \"spam\", confidence: 0.9994676>, Classification<prediction: \"spam\", confidence: 0.99998754>, Classification<prediction: \"spam\", confidence: 0.99985707>, Classification<prediction: \"not_spam\", confidence: 0.9998998>, Classification<prediction: \"not_spam\", confidence: 0.9938396>, Classification<prediction: \"spam\", confidence: 0.94155335>, Classification<prediction: \"not_spam\", confidence: 0.99983376>, Classification<prediction: \"not_spam\", confidence: 0.99955153>, Classification<prediction: \"not_spam\", confidence: 0.99786323>, Classification<prediction: \"not_spam\", confidence: 0.9997478>, Classification<prediction: \"spam\", confidence: 0.94155335>, Classification<prediction: \"not_spam\", confidence: 0.9999491>, Classification<prediction: \"not_spam\", confidence: 0.9893849>, Classification<prediction: \"spam\", confidence: 0.9999839>, Classification<prediction: \"spam\", confidence: 0.99994314>, Classification<prediction: \"spam\", confidence: 0.99751407>, Classification<prediction: \"spam\", confidence: 0.99558437>, Classification<prediction: \"not_spam\", confidence: 0.9999861>, Classification<prediction: \"not_spam\", confidence: 0.7814762>, Classification<prediction: \"not_spam\", confidence: 0.97198725>, Classification<prediction: \"spam\", confidence: 0.999877>, Classification<prediction: \"not_spam\", confidence: 0.9997353>, Classification<prediction: \"spam\", confidence: 0.99979925>, Classification<prediction: \"spam\", confidence: 0.9999449>, Classification<prediction: \"spam\", confidence: 0.9966618>, Classification<prediction: \"not_spam\", confidence: 0.9999065>, Classification<prediction: \"not_spam\", confidence: 0.96980816>, Classification<prediction: \"spam\", confidence: 0.74681044>, Classification<prediction: \"not_spam\", confidence: 0.9975633>, Classification<prediction: \"not_spam\", confidence: 0.9999805>, Classification<prediction: \"not_spam\", confidence: 0.9996581>, Classification<prediction: \"not_spam\", confidence: 0.9998164>, Classification<prediction: \"not_spam\", confidence: 0.999817>, Classification<prediction: \"not_spam\", confidence: 0.9999935>, Classification<prediction: \"spam\", confidence: 0.99905944>, Classification<prediction: \"not_spam\", confidence: 0.99985266>, Classification<prediction: \"not_spam\", confidence: 0.99828184>, Classification<prediction: \"not_spam\", confidence: 0.99879885>, Classification<prediction: \"not_spam\", confidence: 0.9964729>, Classification<prediction: \"spam\", confidence: 0.5886993>, Classification<prediction: \"not_spam\", confidence: 0.99975294>, Classification<prediction: \"not_spam\", confidence: 0.9497099>, Classification<prediction: \"not_spam\", confidence: 0.64542663>, Classification<prediction: \"spam\", confidence: 0.8608969>, Classification<prediction: \"not_spam\", confidence: 0.99976015>, Classification<prediction: \"not_spam\", confidence: 0.9931777>, Classification<prediction: \"not_spam\", confidence: 0.9997248>, Classification<prediction: \"not_spam\", confidence: 0.9999865>, Classification<prediction: \"not_spam\", confidence: 0.99993384>, Classification<prediction: \"not_spam\", confidence: 0.98647946>, Classification<prediction: \"not_spam\", confidence: 0.9996651>, Classification<prediction: \"not_spam\", confidence: 0.9999992>, Classification<prediction: \"not_spam\", confidence: 0.9998706>, Classification<prediction: \"not_spam\", confidence: 0.9998952>, Classification<prediction: \"spam\", confidence: 0.50203496>, Classification<prediction: \"not_spam\", confidence: 0.9999521>, Classification<prediction: \"spam\", confidence: 0.9997738>, Classification<prediction: \"spam\", confidence: 0.9998273>, Classification<prediction: \"spam\", confidence: 0.999779>, Classification<prediction: \"not_spam\", confidence: 0.99929035>, Classification<prediction: \"not_spam\", confidence: 0.9999586>, Classification<prediction: \"not_spam\", confidence: 0.9986156>, Classification<prediction: \"not_spam\", confidence: 0.9288612>, Classification<prediction: \"not_spam\", confidence: 0.9999356>, Classification<prediction: \"not_spam\", confidence: 0.9998345>, Classification<prediction: \"not_spam\", confidence: 0.99998814>, Classification<prediction: \"not_spam\", confidence: 0.999578>, Classification<prediction: \"not_spam\", confidence: 0.9994962>, Classification<prediction: \"not_spam\", confidence: 0.99996775>, Classification<prediction: \"not_spam\", confidence: 0.9999621>, Classification<prediction: \"not_spam\", confidence: 0.9995564>, Classification<prediction: \"not_spam\", confidence: 0.99999064>, Classification<prediction: \"spam\", confidence: 0.94654197>, Classification<prediction: \"not_spam\", confidence: 0.9486221>, Classification<prediction: \"spam\", confidence: 0.9999927>, Classification<prediction: \"not_spam\", confidence: 0.9913301>, Classification<prediction: \"not_spam\", confidence: 0.9991237>, Classification<prediction: \"spam\", confidence: 0.99952275>, Classification<prediction: \"not_spam\", confidence: 0.93266696>, Classification<prediction: \"not_spam\", confidence: 0.9998613>, Classification<prediction: \"not_spam\", confidence: 0.9999913>, Classification<prediction: \"not_spam\", confidence: 0.99250364>, Classification<prediction: \"not_spam\", confidence: 0.9999998>, Classification<prediction: \"spam\", confidence: 0.9999982>, Classification<prediction: \"not_spam\", confidence: 0.998606>, Classification<prediction: \"not_spam\", confidence: 0.9996944>, Classification<prediction: \"spam\", confidence: 0.99957436>, Classification<prediction: \"spam\", confidence: 0.99997926>, Classification<prediction: \"not_spam\", confidence: 0.9999977>, Classification<prediction: \"spam\", confidence: 0.99983925>, Classification<prediction: \"not_spam\", confidence: 0.999907>, Classification<prediction: \"not_spam\", confidence: 0.9995371>, Classification<prediction: \"not_spam\", confidence: 0.99987733>, Classification<prediction: \"not_spam\", confidence: 0.99656147>, Classification<prediction: \"not_spam\", confidence: 0.9988601>, Classification<prediction: \"not_spam\", confidence: 0.9992314>, Classification<prediction: \"spam\", confidence: 0.9879373>, Classification<prediction: \"not_spam\", confidence: 0.9839389>, Classification<prediction: \"not_spam\", confidence: 0.93713516>, Classification<prediction: \"spam\", confidence: 0.9999152>, Classification<prediction: \"spam\", confidence: 0.9999982>, Classification<prediction: \"not_spam\", confidence: 0.9976159>, Classification<prediction: \"not_spam\", confidence: 0.98085064>, Classification<prediction: \"not_spam\", confidence: 0.9466406>, Classification<prediction: \"not_spam\", confidence: 0.9994339>, Classification<prediction: \"not_spam\", confidence: 0.99995476>, Classification<prediction: \"not_spam\", confidence: 0.9999208>, Classification<prediction: \"spam\", confidence: 0.99998623>, Classification<prediction: \"not_spam\", confidence: 0.9999617>, Classification<prediction: \"not_spam\", confidence: 0.9998819>, Classification<prediction: \"spam\", confidence: 0.9959554>, Classification<prediction: \"not_spam\", confidence: 0.999278>, Classification<prediction: \"not_spam\", confidence: 0.99998367>, Classification<prediction: \"not_spam\", confidence: 0.999996>, Classification<prediction: \"not_spam\", confidence: 0.99375373>, Classification<prediction: \"spam\", confidence: 0.9967095>, Classification<prediction: \"not_spam\", confidence: 0.9999367>, Classification<prediction: \"not_spam\", confidence: 0.99960196>, Classification<prediction: \"spam\", confidence: 0.9993341>, Classification<prediction: \"not_spam\", confidence: 0.9983637>, Classification<prediction: \"spam\", confidence: 0.99482685>, Classification<prediction: \"not_spam\", confidence: 0.99579424>, Classification<prediction: \"not_spam\", confidence: 0.99994105>, Classification<prediction: \"not_spam\", confidence: 0.99414194>, Classification<prediction: \"not_spam\", confidence: 0.9958492>, Classification<prediction: \"spam\", confidence: 0.9870249>, Classification<prediction: \"spam\", confidence: 0.5316394>, Classification<prediction: \"spam\", confidence: 0.9985642>, Classification<prediction: \"not_spam\", confidence: 0.9997889>, Classification<prediction: \"not_spam\", confidence: 0.9999924>, Classification<prediction: \"not_spam\", confidence: 0.9999969>, Classification<prediction: \"spam\", confidence: 0.77118>, Classification<prediction: \"not_spam\", confidence: 0.99713284>, Classification<prediction: \"spam\", confidence: 0.99027896>, Classification<prediction: \"not_spam\", confidence: 0.9989268>, Classification<prediction: \"not_spam\", confidence: 0.9979481>, Classification<prediction: \"not_spam\", confidence: 0.99498564>, Classification<prediction: \"not_spam\", confidence: 0.9999796>, Classification<prediction: \"spam\", confidence: 0.9842989>, Classification<prediction: \"not_spam\", confidence: 0.9999961>, Classification<prediction: \"not_spam\", confidence: 0.9979922>, Classification<prediction: \"spam\", confidence: 0.99820286>, Classification<prediction: \"spam\", confidence: 0.99216086>, Classification<prediction: \"not_spam\", confidence: 0.9999941>, Classification<prediction: \"not_spam\", confidence: 0.9178683>, Classification<prediction: \"not_spam\", confidence: 0.999796>, Classification<prediction: \"not_spam\", confidence: 0.99981755>, Classification<prediction: \"spam\", confidence: 0.9991413>, Classification<prediction: \"not_spam\", confidence: 0.9997641>, Classification<prediction: \"spam\", confidence: 0.99616235>, Classification<prediction: \"not_spam\", confidence: 0.9997831>, Classification<prediction: \"spam\", confidence: 0.99951106>, Classification<prediction: \"not_spam\", confidence: 0.9992274>, Classification<prediction: \"spam\", confidence: 0.9991785>, Classification<prediction: \"not_spam\", confidence: 0.99933445>, Classification<prediction: \"spam\", confidence: 0.9999971>, Classification<prediction: \"spam\", confidence: 0.8173526>, Classification<prediction: \"not_spam\", confidence: 0.99904263>, Classification<prediction: \"not_spam\", confidence: 0.999629>, Classification<prediction: \"not_spam\", confidence: 0.99886733>, Classification<prediction: \"spam\", confidence: 0.999983>, Classification<prediction: \"not_spam\", confidence: 0.99997056>, Classification<prediction: \"not_spam\", confidence: 0.99606276>, Classification<prediction: \"not_spam\", confidence: 0.9977331>, Classification<prediction: \"not_spam\", confidence: 0.99989665>, Classification<prediction: \"not_spam\", confidence: 0.9992481>, Classification<prediction: \"not_spam\", confidence: 0.9999854>, Classification<prediction: \"not_spam\", confidence: 0.93266696>, Classification<prediction: \"not_spam\", confidence: 0.9999649>, Classification<prediction: \"not_spam\", confidence: 0.9995986>, Classification<prediction: \"not_spam\", confidence: 0.9999731>, Classification<prediction: \"not_spam\", confidence: 0.9498115>, Classification<prediction: \"not_spam\", confidence: 0.9999994>, Classification<prediction: \"not_spam\", confidence: 0.99999243>, Classification<prediction: \"spam\", confidence: 0.8262132>, Classification<prediction: \"spam\", confidence: 0.99988925>, Classification<prediction: \"spam\", confidence: 0.99728954>, Classification<prediction: \"not_spam\", confidence: 0.9998055>, Classification<prediction: \"not_spam\", confidence: 0.9999576>]\n"
          ]
        }
      ]
    },
    {
      "cell_type": "code",
      "source": [
        "responses = list(first_response) + list(second_response) + list(third_response)\n",
        "\n",
        "len(responses)"
      ],
      "metadata": {
        "colab": {
          "base_uri": "https://localhost:8080/"
        },
        "id": "pEelxqBOQDvo",
        "outputId": "70bbb675-7762-427a-c00d-44f811e1acfc"
      },
      "execution_count": null,
      "outputs": [
        {
          "output_type": "execute_result",
          "data": {
            "text/plain": [
              "5696"
            ]
          },
          "metadata": {},
          "execution_count": 25
        }
      ]
    },
    {
      "cell_type": "code",
      "source": [
        "responses[0].prediction"
      ],
      "metadata": {
        "colab": {
          "base_uri": "https://localhost:8080/",
          "height": 35
        },
        "id": "0wiL_DEgP4Uj",
        "outputId": "ba3b715e-f468-497e-e8ed-ebcf90c06eee"
      },
      "execution_count": null,
      "outputs": [
        {
          "output_type": "execute_result",
          "data": {
            "text/plain": [
              "'not_spam'"
            ],
            "application/vnd.google.colaboratory.intrinsic+json": {
              "type": "string"
            }
          },
          "metadata": {},
          "execution_count": 26
        }
      ]
    },
    {
      "cell_type": "code",
      "source": [
        "truths = df['CATEGORY'].to_numpy()[TRAIN_SIZE:]\n",
        "\n",
        "truths[0]"
      ],
      "metadata": {
        "colab": {
          "base_uri": "https://localhost:8080/"
        },
        "id": "SsBZI7UrQQ6L",
        "outputId": "7eafc0bf-3301-4571-a70d-6fc216f266b0"
      },
      "execution_count": null,
      "outputs": [
        {
          "output_type": "execute_result",
          "data": {
            "text/plain": [
              "0"
            ]
          },
          "metadata": {},
          "execution_count": 27
        }
      ]
    },
    {
      "cell_type": "code",
      "source": [
        "predictions = [r.prediction for r in responses]\n",
        "predictions[:5]"
      ],
      "metadata": {
        "colab": {
          "base_uri": "https://localhost:8080/"
        },
        "id": "Iz6DjaXMQ6km",
        "outputId": "9bb0daa6-b8d2-443d-9601-ce257713385f"
      },
      "execution_count": null,
      "outputs": [
        {
          "output_type": "execute_result",
          "data": {
            "text/plain": [
              "['not_spam', 'not_spam', 'spam', 'not_spam', 'not_spam']"
            ]
          },
          "metadata": {},
          "execution_count": 28
        }
      ]
    },
    {
      "cell_type": "code",
      "source": [
        "import numpy as np\n",
        "\n",
        "predictions = np.array([0 if p == 'not_spam' else 1 for p in predictions])\n",
        "predictions[:5]"
      ],
      "metadata": {
        "colab": {
          "base_uri": "https://localhost:8080/"
        },
        "id": "_j1EwPkKRX8V",
        "outputId": "a8843d9a-62ee-4aa1-b90c-550c928dc9cc"
      },
      "execution_count": null,
      "outputs": [
        {
          "output_type": "execute_result",
          "data": {
            "text/plain": [
              "array([0, 0, 1, 0, 0])"
            ]
          },
          "metadata": {},
          "execution_count": 29
        }
      ]
    },
    {
      "cell_type": "code",
      "source": [
        "from sklearn.metrics import classification_report\n",
        "\n",
        "print(classification_report(truths, predictions))"
      ],
      "metadata": {
        "colab": {
          "base_uri": "https://localhost:8080/"
        },
        "id": "LTHjW0GpRpJJ",
        "outputId": "49de6254-3644-4556-bc4c-3c5cca8ea6d7"
      },
      "execution_count": null,
      "outputs": [
        {
          "output_type": "stream",
          "name": "stdout",
          "text": [
            "              precision    recall  f1-score   support\n",
            "\n",
            "           0       0.97      1.00      0.98      3839\n",
            "           1       0.99      0.93      0.96      1857\n",
            "\n",
            "    accuracy                           0.97      5696\n",
            "   macro avg       0.98      0.96      0.97      5696\n",
            "weighted avg       0.97      0.97      0.97      5696\n",
            "\n"
          ]
        }
      ]
    },
    {
      "cell_type": "code",
      "source": [
        "# y previous model that took thousands of training examples and a LOT of prep:\n",
        "\n",
        "#               precision    recall  f1-score   support\n",
        "\n",
        "#            0       0.83      0.98      0.90       788\n",
        "#            1       0.92      0.58      0.71       372\n",
        "\n",
        "#     accuracy                           0.85      1160\n",
        "#    macro avg       0.87      0.78      0.80      1160\n",
        "# weighted avg       0.86      0.85      0.84      1160"
      ],
      "metadata": {
        "id": "B2-dKmDaR2Ln"
      },
      "execution_count": null,
      "outputs": []
    },
    {
      "cell_type": "code",
      "source": [],
      "metadata": {
        "id": "nBkhkIBjXBKE"
      },
      "execution_count": null,
      "outputs": []
    },
    {
      "cell_type": "code",
      "source": [],
      "metadata": {
        "id": "ZY-_cDXLXBHL"
      },
      "execution_count": null,
      "outputs": []
    }
  ]
}